{
 "cells": [
  {
   "cell_type": "code",
   "execution_count": null,
   "id": "O3KsMUpYuWFt",
   "metadata": {
    "colab": {
     "base_uri": "https://localhost:8080/",
     "height": 73
    },
    "id": "O3KsMUpYuWFt",
    "outputId": "e42f4e74-b2f9-45aa-d52e-85563219774d"
   },
   "outputs": [
    {
     "data": {
      "text/html": [
       "\n",
       "     <input type=\"file\" id=\"files-a8db4063-c16a-43b3-9d64-bbef2e73144c\" name=\"files[]\" multiple disabled\n",
       "        style=\"border:none\" />\n",
       "     <output id=\"result-a8db4063-c16a-43b3-9d64-bbef2e73144c\">\n",
       "      Upload widget is only available when the cell has been executed in the\n",
       "      current browser session. Please rerun this cell to enable.\n",
       "      </output>\n",
       "      <script>// Copyright 2017 Google LLC\n",
       "//\n",
       "// Licensed under the Apache License, Version 2.0 (the \"License\");\n",
       "// you may not use this file except in compliance with the License.\n",
       "// You may obtain a copy of the License at\n",
       "//\n",
       "//      http://www.apache.org/licenses/LICENSE-2.0\n",
       "//\n",
       "// Unless required by applicable law or agreed to in writing, software\n",
       "// distributed under the License is distributed on an \"AS IS\" BASIS,\n",
       "// WITHOUT WARRANTIES OR CONDITIONS OF ANY KIND, either express or implied.\n",
       "// See the License for the specific language governing permissions and\n",
       "// limitations under the License.\n",
       "\n",
       "/**\n",
       " * @fileoverview Helpers for google.colab Python module.\n",
       " */\n",
       "(function(scope) {\n",
       "function span(text, styleAttributes = {}) {\n",
       "  const element = document.createElement('span');\n",
       "  element.textContent = text;\n",
       "  for (const key of Object.keys(styleAttributes)) {\n",
       "    element.style[key] = styleAttributes[key];\n",
       "  }\n",
       "  return element;\n",
       "}\n",
       "\n",
       "// Max number of bytes which will be uploaded at a time.\n",
       "const MAX_PAYLOAD_SIZE = 100 * 1024;\n",
       "\n",
       "function _uploadFiles(inputId, outputId) {\n",
       "  const steps = uploadFilesStep(inputId, outputId);\n",
       "  const outputElement = document.getElementById(outputId);\n",
       "  // Cache steps on the outputElement to make it available for the next call\n",
       "  // to uploadFilesContinue from Python.\n",
       "  outputElement.steps = steps;\n",
       "\n",
       "  return _uploadFilesContinue(outputId);\n",
       "}\n",
       "\n",
       "// This is roughly an async generator (not supported in the browser yet),\n",
       "// where there are multiple asynchronous steps and the Python side is going\n",
       "// to poll for completion of each step.\n",
       "// This uses a Promise to block the python side on completion of each step,\n",
       "// then passes the result of the previous step as the input to the next step.\n",
       "function _uploadFilesContinue(outputId) {\n",
       "  const outputElement = document.getElementById(outputId);\n",
       "  const steps = outputElement.steps;\n",
       "\n",
       "  const next = steps.next(outputElement.lastPromiseValue);\n",
       "  return Promise.resolve(next.value.promise).then((value) => {\n",
       "    // Cache the last promise value to make it available to the next\n",
       "    // step of the generator.\n",
       "    outputElement.lastPromiseValue = value;\n",
       "    return next.value.response;\n",
       "  });\n",
       "}\n",
       "\n",
       "/**\n",
       " * Generator function which is called between each async step of the upload\n",
       " * process.\n",
       " * @param {string} inputId Element ID of the input file picker element.\n",
       " * @param {string} outputId Element ID of the output display.\n",
       " * @return {!Iterable<!Object>} Iterable of next steps.\n",
       " */\n",
       "function* uploadFilesStep(inputId, outputId) {\n",
       "  const inputElement = document.getElementById(inputId);\n",
       "  inputElement.disabled = false;\n",
       "\n",
       "  const outputElement = document.getElementById(outputId);\n",
       "  outputElement.innerHTML = '';\n",
       "\n",
       "  const pickedPromise = new Promise((resolve) => {\n",
       "    inputElement.addEventListener('change', (e) => {\n",
       "      resolve(e.target.files);\n",
       "    });\n",
       "  });\n",
       "\n",
       "  const cancel = document.createElement('button');\n",
       "  inputElement.parentElement.appendChild(cancel);\n",
       "  cancel.textContent = 'Cancel upload';\n",
       "  const cancelPromise = new Promise((resolve) => {\n",
       "    cancel.onclick = () => {\n",
       "      resolve(null);\n",
       "    };\n",
       "  });\n",
       "\n",
       "  // Wait for the user to pick the files.\n",
       "  const files = yield {\n",
       "    promise: Promise.race([pickedPromise, cancelPromise]),\n",
       "    response: {\n",
       "      action: 'starting',\n",
       "    }\n",
       "  };\n",
       "\n",
       "  cancel.remove();\n",
       "\n",
       "  // Disable the input element since further picks are not allowed.\n",
       "  inputElement.disabled = true;\n",
       "\n",
       "  if (!files) {\n",
       "    return {\n",
       "      response: {\n",
       "        action: 'complete',\n",
       "      }\n",
       "    };\n",
       "  }\n",
       "\n",
       "  for (const file of files) {\n",
       "    const li = document.createElement('li');\n",
       "    li.append(span(file.name, {fontWeight: 'bold'}));\n",
       "    li.append(span(\n",
       "        `(${file.type || 'n/a'}) - ${file.size} bytes, ` +\n",
       "        `last modified: ${\n",
       "            file.lastModifiedDate ? file.lastModifiedDate.toLocaleDateString() :\n",
       "                                    'n/a'} - `));\n",
       "    const percent = span('0% done');\n",
       "    li.appendChild(percent);\n",
       "\n",
       "    outputElement.appendChild(li);\n",
       "\n",
       "    const fileDataPromise = new Promise((resolve) => {\n",
       "      const reader = new FileReader();\n",
       "      reader.onload = (e) => {\n",
       "        resolve(e.target.result);\n",
       "      };\n",
       "      reader.readAsArrayBuffer(file);\n",
       "    });\n",
       "    // Wait for the data to be ready.\n",
       "    let fileData = yield {\n",
       "      promise: fileDataPromise,\n",
       "      response: {\n",
       "        action: 'continue',\n",
       "      }\n",
       "    };\n",
       "\n",
       "    // Use a chunked sending to avoid message size limits. See b/62115660.\n",
       "    let position = 0;\n",
       "    do {\n",
       "      const length = Math.min(fileData.byteLength - position, MAX_PAYLOAD_SIZE);\n",
       "      const chunk = new Uint8Array(fileData, position, length);\n",
       "      position += length;\n",
       "\n",
       "      const base64 = btoa(String.fromCharCode.apply(null, chunk));\n",
       "      yield {\n",
       "        response: {\n",
       "          action: 'append',\n",
       "          file: file.name,\n",
       "          data: base64,\n",
       "        },\n",
       "      };\n",
       "\n",
       "      let percentDone = fileData.byteLength === 0 ?\n",
       "          100 :\n",
       "          Math.round((position / fileData.byteLength) * 100);\n",
       "      percent.textContent = `${percentDone}% done`;\n",
       "\n",
       "    } while (position < fileData.byteLength);\n",
       "  }\n",
       "\n",
       "  // All done.\n",
       "  yield {\n",
       "    response: {\n",
       "      action: 'complete',\n",
       "    }\n",
       "  };\n",
       "}\n",
       "\n",
       "scope.google = scope.google || {};\n",
       "scope.google.colab = scope.google.colab || {};\n",
       "scope.google.colab._files = {\n",
       "  _uploadFiles,\n",
       "  _uploadFilesContinue,\n",
       "};\n",
       "})(self);\n",
       "</script> "
      ],
      "text/plain": [
       "<IPython.core.display.HTML object>"
      ]
     },
     "metadata": {},
     "output_type": "display_data"
    },
    {
     "name": "stdout",
     "output_type": "stream",
     "text": [
      "Saving Survey Data_shipping.csv to Survey Data_shipping.csv\n"
     ]
    }
   ],
   "source": [
    "from google.colab import files\n",
    "uploded = files.upload()"
   ]
  },
  {
   "cell_type": "code",
   "execution_count": 51,
   "id": "iQIaNJIWdI4J",
   "metadata": {
    "id": "iQIaNJIWdI4J"
   },
   "outputs": [],
   "source": [
    "import pandas as pd\n",
    "import re"
   ]
  },
  {
   "cell_type": "code",
   "execution_count": 52,
   "id": "4ab70223",
   "metadata": {
    "id": "4ab70223"
   },
   "outputs": [],
   "source": [
    "#importing the dataset\n",
    "df = pd.read_csv(\"Survey Data_shipping.csv\", encoding='latin-1')"
   ]
  },
  {
   "cell_type": "code",
   "execution_count": 53,
   "id": "9b36f602",
   "metadata": {
    "colab": {
     "base_uri": "https://localhost:8080/",
     "height": 652
    },
    "id": "9b36f602",
    "outputId": "e57c7152-3b74-4190-d290-263183a6a07d"
   },
   "outputs": [
    {
     "data": {
      "text/html": [
       "<div>\n",
       "<style scoped>\n",
       "    .dataframe tbody tr th:only-of-type {\n",
       "        vertical-align: middle;\n",
       "    }\n",
       "\n",
       "    .dataframe tbody tr th {\n",
       "        vertical-align: top;\n",
       "    }\n",
       "\n",
       "    .dataframe thead th {\n",
       "        text-align: right;\n",
       "    }\n",
       "</style>\n",
       "<table border=\"1\" class=\"dataframe\">\n",
       "  <thead>\n",
       "    <tr style=\"text-align: right;\">\n",
       "      <th></th>\n",
       "      <th>ï»¿OCF Journey</th>\n",
       "      <th>Response Ticker - Why you gave this number in the survey</th>\n",
       "      <th>Why - issue Category</th>\n",
       "      <th>Why - Keywords/Words related to issue</th>\n",
       "      <th>Why - # of Words</th>\n",
       "      <th>Response Ticker - What we could do better?</th>\n",
       "      <th>What - Issue</th>\n",
       "      <th>What - Words related to issue</th>\n",
       "      <th>What - # of Words</th>\n",
       "      <th>Application area</th>\n",
       "      <th>Comment_Metadata1</th>\n",
       "      <th>Comment_Metadata2</th>\n",
       "      <th>Q1 - How likely are you to recommend UPS to a friend or colleague?</th>\n",
       "      <th>Survey Date (+00:00 GMT)</th>\n",
       "      <th>Unnamed: 14</th>\n",
       "      <th>Unnamed: 15</th>\n",
       "    </tr>\n",
       "  </thead>\n",
       "  <tbody>\n",
       "    <tr>\n",
       "      <th>0</th>\n",
       "      <td>Generate a Shipment (Digital)</td>\n",
       "      <td>Easy</td>\n",
       "      <td>Layout/Navigation/Usablity</td>\n",
       "      <td>NaN</td>\n",
       "      <td>1</td>\n",
       "      <td>Occasionally the driver will pick up boxes too...</td>\n",
       "      <td>NaN</td>\n",
       "      <td>NaN</td>\n",
       "      <td>27</td>\n",
       "      <td>NaN</td>\n",
       "      <td>Logged In</td>\n",
       "      <td>SinglePage</td>\n",
       "      <td>10</td>\n",
       "      <td>8/9/2022 18:21</td>\n",
       "      <td>NaN</td>\n",
       "      <td>NaN</td>\n",
       "    </tr>\n",
       "    <tr>\n",
       "      <th>1</th>\n",
       "      <td>Generate a Shipment (Digital)</td>\n",
       "      <td>Easy</td>\n",
       "      <td>Layout/Navigation/Usablity</td>\n",
       "      <td>NaN</td>\n",
       "      <td>1</td>\n",
       "      <td>DonÃ¢â¬â¢t use USPS, nothing gets here on ti...</td>\n",
       "      <td>NaN</td>\n",
       "      <td>NaN</td>\n",
       "      <td>17</td>\n",
       "      <td>NaN</td>\n",
       "      <td>Logged In</td>\n",
       "      <td>Guided</td>\n",
       "      <td>8</td>\n",
       "      <td>8/5/2021 16:52</td>\n",
       "      <td>NaN</td>\n",
       "      <td>Layout/Navigation/Usablity</td>\n",
       "    </tr>\n",
       "    <tr>\n",
       "      <th>2</th>\n",
       "      <td>Generate a Shipment (Digital)</td>\n",
       "      <td>easy</td>\n",
       "      <td>Layout/Navigation/Usablity</td>\n",
       "      <td>NaN</td>\n",
       "      <td>1</td>\n",
       "      <td>Email our invoices instead of mailing them.</td>\n",
       "      <td>NaN</td>\n",
       "      <td>NaN</td>\n",
       "      <td>7</td>\n",
       "      <td>NaN</td>\n",
       "      <td>Logged In</td>\n",
       "      <td>SinglePage</td>\n",
       "      <td>9</td>\n",
       "      <td>2/24/2021 12:20</td>\n",
       "      <td>NaN</td>\n",
       "      <td>Technical/Performance</td>\n",
       "    </tr>\n",
       "  </tbody>\n",
       "</table>\n",
       "</div>"
      ],
      "text/plain": [
       "                  ï»¿OCF Journey  \\\n",
       "0  Generate a Shipment (Digital)   \n",
       "1  Generate a Shipment (Digital)   \n",
       "2  Generate a Shipment (Digital)   \n",
       "\n",
       "  Response Ticker - Why you gave this number in the survey  \\\n",
       "0                                               Easy         \n",
       "1                                               Easy         \n",
       "2                                               easy         \n",
       "\n",
       "         Why - issue Category Why - Keywords/Words related to issue  \\\n",
       "0  Layout/Navigation/Usablity                                   NaN   \n",
       "1  Layout/Navigation/Usablity                                   NaN   \n",
       "2  Layout/Navigation/Usablity                                   NaN   \n",
       "\n",
       "   Why - # of Words         Response Ticker - What we could do better?  \\\n",
       "0                 1  Occasionally the driver will pick up boxes too...   \n",
       "1                 1  DonÃ¢â¬â¢t use USPS, nothing gets here on ti...   \n",
       "2                 1        Email our invoices instead of mailing them.   \n",
       "\n",
       "  What - Issue What - Words related to issue  What - # of Words  \\\n",
       "0          NaN                           NaN                 27   \n",
       "1          NaN                           NaN                 17   \n",
       "2          NaN                           NaN                  7   \n",
       "\n",
       "  Application area Comment_Metadata1 Comment_Metadata2  \\\n",
       "0              NaN         Logged In        SinglePage   \n",
       "1              NaN         Logged In            Guided   \n",
       "2              NaN         Logged In        SinglePage   \n",
       "\n",
       "   Q1 - How likely are you to recommend UPS to a friend or colleague?  \\\n",
       "0                                                 10                    \n",
       "1                                                  8                    \n",
       "2                                                  9                    \n",
       "\n",
       "  Survey Date (+00:00 GMT)  Unnamed: 14                 Unnamed: 15  \n",
       "0           8/9/2022 18:21          NaN                         NaN  \n",
       "1           8/5/2021 16:52          NaN  Layout/Navigation/Usablity  \n",
       "2          2/24/2021 12:20          NaN       Technical/Performance  "
      ]
     },
     "execution_count": 53,
     "metadata": {},
     "output_type": "execute_result"
    }
   ],
   "source": [
    "df.head(3)"
   ]
  },
  {
   "cell_type": "code",
   "execution_count": 54,
   "id": "2e60fe76",
   "metadata": {
    "id": "2e60fe76"
   },
   "outputs": [],
   "source": [
    "#extract important columns\n",
    "review = df[['Response Ticker - Why you gave this number in the survey', 'Why - issue Category' ]]"
   ]
  },
  {
   "cell_type": "code",
   "execution_count": 55,
   "id": "5a6e4e19",
   "metadata": {
    "colab": {
     "base_uri": "https://localhost:8080/",
     "height": 206
    },
    "id": "5a6e4e19",
    "outputId": "b52e9a01-9f1a-470e-9743-c78c428d1ee7"
   },
   "outputs": [
    {
     "data": {
      "text/html": [
       "<div>\n",
       "<style scoped>\n",
       "    .dataframe tbody tr th:only-of-type {\n",
       "        vertical-align: middle;\n",
       "    }\n",
       "\n",
       "    .dataframe tbody tr th {\n",
       "        vertical-align: top;\n",
       "    }\n",
       "\n",
       "    .dataframe thead th {\n",
       "        text-align: right;\n",
       "    }\n",
       "</style>\n",
       "<table border=\"1\" class=\"dataframe\">\n",
       "  <thead>\n",
       "    <tr style=\"text-align: right;\">\n",
       "      <th></th>\n",
       "      <th>Response Ticker - Why you gave this number in the survey</th>\n",
       "      <th>Why - issue Category</th>\n",
       "    </tr>\n",
       "  </thead>\n",
       "  <tbody>\n",
       "    <tr>\n",
       "      <th>0</th>\n",
       "      <td>Easy</td>\n",
       "      <td>Layout/Navigation/Usablity</td>\n",
       "    </tr>\n",
       "    <tr>\n",
       "      <th>1</th>\n",
       "      <td>Easy</td>\n",
       "      <td>Layout/Navigation/Usablity</td>\n",
       "    </tr>\n",
       "    <tr>\n",
       "      <th>2</th>\n",
       "      <td>easy</td>\n",
       "      <td>Layout/Navigation/Usablity</td>\n",
       "    </tr>\n",
       "    <tr>\n",
       "      <th>3</th>\n",
       "      <td>easy</td>\n",
       "      <td>Layout/Navigation/Usablity</td>\n",
       "    </tr>\n",
       "    <tr>\n",
       "      <th>4</th>\n",
       "      <td>Simple</td>\n",
       "      <td>Layout/Navigation/Usablity</td>\n",
       "    </tr>\n",
       "  </tbody>\n",
       "</table>\n",
       "</div>"
      ],
      "text/plain": [
       "  Response Ticker - Why you gave this number in the survey  \\\n",
       "0                                               Easy         \n",
       "1                                               Easy         \n",
       "2                                               easy         \n",
       "3                                               easy         \n",
       "4                                             Simple         \n",
       "\n",
       "         Why - issue Category  \n",
       "0  Layout/Navigation/Usablity  \n",
       "1  Layout/Navigation/Usablity  \n",
       "2  Layout/Navigation/Usablity  \n",
       "3  Layout/Navigation/Usablity  \n",
       "4  Layout/Navigation/Usablity  "
      ]
     },
     "execution_count": 55,
     "metadata": {},
     "output_type": "execute_result"
    }
   ],
   "source": [
    "review.head()"
   ]
  },
  {
   "cell_type": "code",
   "execution_count": 56,
   "id": "YhyC3rT_EDVq",
   "metadata": {
    "colab": {
     "base_uri": "https://localhost:8080/"
    },
    "id": "YhyC3rT_EDVq",
    "outputId": "cb2b94ef-bc2f-46dc-8997-8df0396a4eab"
   },
   "outputs": [
    {
     "data": {
      "text/plain": [
       "Operational                   2147\n",
       "Layout/Navigation/Usablity    1973\n",
       "Others                         595\n",
       "Pricing/Cost                   525\n",
       "Support/Sales                  430\n",
       "Technical/Performance          224\n",
       "others                          52\n",
       "Operational                      5\n",
       "Name: Why - issue Category, dtype: int64"
      ]
     },
     "execution_count": 56,
     "metadata": {},
     "output_type": "execute_result"
    }
   ],
   "source": [
    "review['Why - issue Category'].value_counts()"
   ]
  },
  {
   "cell_type": "code",
   "execution_count": 57,
   "id": "rwZzhprNiXyr",
   "metadata": {
    "colab": {
     "base_uri": "https://localhost:8080/"
    },
    "id": "rwZzhprNiXyr",
    "outputId": "21754b4a-f7ca-42d5-e56b-353688af7a42"
   },
   "outputs": [
    {
     "name": "stderr",
     "output_type": "stream",
     "text": [
      "C:\\Users\\User\\AppData\\Local\\Temp\\ipykernel_2960\\1068644813.py:2: SettingWithCopyWarning: \n",
      "A value is trying to be set on a copy of a slice from a DataFrame.\n",
      "Try using .loc[row_indexer,col_indexer] = value instead\n",
      "\n",
      "See the caveats in the documentation: https://pandas.pydata.org/pandas-docs/stable/user_guide/indexing.html#returning-a-view-versus-a-copy\n",
      "  review['Why - issue Category']= review['Why - issue Category'].replace({'Operational ':'Operational', 'others': 'Others'})\n"
     ]
    }
   ],
   "source": [
    "#replaceing the case sensetive and space problems of 'Operations ' to 'Operations' and 'others' to 'Others'\n",
    "review['Why - issue Category']= review['Why - issue Category'].replace({'Operational ':'Operational', 'others': 'Others'})\n"
   ]
  },
  {
   "cell_type": "code",
   "execution_count": 58,
   "id": "GuthGPr-E_vs",
   "metadata": {
    "colab": {
     "base_uri": "https://localhost:8080/"
    },
    "id": "GuthGPr-E_vs",
    "outputId": "389a9cc1-177d-4ca5-f6a8-3f7b842f3b75"
   },
   "outputs": [
    {
     "data": {
      "text/plain": [
       "Operational                   2152\n",
       "Layout/Navigation/Usablity    1973\n",
       "Others                         647\n",
       "Pricing/Cost                   525\n",
       "Support/Sales                  430\n",
       "Technical/Performance          224\n",
       "Name: Why - issue Category, dtype: int64"
      ]
     },
     "execution_count": 58,
     "metadata": {},
     "output_type": "execute_result"
    }
   ],
   "source": [
    "review['Why - issue Category'].value_counts()"
   ]
  },
  {
   "cell_type": "code",
   "execution_count": 59,
   "id": "pBiwEquFiylL",
   "metadata": {
    "colab": {
     "base_uri": "https://localhost:8080/"
    },
    "id": "pBiwEquFiylL",
    "outputId": "9c0d01b1-aa4e-46c2-e3ac-f09f7a67cab7"
   },
   "outputs": [
    {
     "data": {
      "text/html": [
       "<div>\n",
       "<style scoped>\n",
       "    .dataframe tbody tr th:only-of-type {\n",
       "        vertical-align: middle;\n",
       "    }\n",
       "\n",
       "    .dataframe tbody tr th {\n",
       "        vertical-align: top;\n",
       "    }\n",
       "\n",
       "    .dataframe thead th {\n",
       "        text-align: right;\n",
       "    }\n",
       "</style>\n",
       "<table border=\"1\" class=\"dataframe\">\n",
       "  <thead>\n",
       "    <tr style=\"text-align: right;\">\n",
       "      <th></th>\n",
       "      <th>Response Ticker - Why you gave this number in the survey</th>\n",
       "      <th>Why - issue Category</th>\n",
       "    </tr>\n",
       "  </thead>\n",
       "  <tbody>\n",
       "    <tr>\n",
       "      <th>0</th>\n",
       "      <td>Easy</td>\n",
       "      <td>Layout/Navigation/Usablity</td>\n",
       "    </tr>\n",
       "    <tr>\n",
       "      <th>1</th>\n",
       "      <td>Easy</td>\n",
       "      <td>Layout/Navigation/Usablity</td>\n",
       "    </tr>\n",
       "    <tr>\n",
       "      <th>2</th>\n",
       "      <td>easy</td>\n",
       "      <td>Layout/Navigation/Usablity</td>\n",
       "    </tr>\n",
       "    <tr>\n",
       "      <th>3</th>\n",
       "      <td>easy</td>\n",
       "      <td>Layout/Navigation/Usablity</td>\n",
       "    </tr>\n",
       "    <tr>\n",
       "      <th>4</th>\n",
       "      <td>Simple</td>\n",
       "      <td>Layout/Navigation/Usablity</td>\n",
       "    </tr>\n",
       "  </tbody>\n",
       "</table>\n",
       "</div>"
      ],
      "text/plain": [
       "  Response Ticker - Why you gave this number in the survey  \\\n",
       "0                                               Easy         \n",
       "1                                               Easy         \n",
       "2                                               easy         \n",
       "3                                               easy         \n",
       "4                                             Simple         \n",
       "\n",
       "         Why - issue Category  \n",
       "0  Layout/Navigation/Usablity  \n",
       "1  Layout/Navigation/Usablity  \n",
       "2  Layout/Navigation/Usablity  \n",
       "3  Layout/Navigation/Usablity  \n",
       "4  Layout/Navigation/Usablity  "
      ]
     },
     "execution_count": 59,
     "metadata": {},
     "output_type": "execute_result"
    }
   ],
   "source": [
    "review.head()"
   ]
  },
  {
   "cell_type": "code",
   "execution_count": 60,
   "id": "6oEpFKsU1Fw6",
   "metadata": {
    "id": "6oEpFKsU1Fw6"
   },
   "outputs": [],
   "source": [
    "#changing the column name \n",
    "review = review.rename(columns={'Response Ticker - Why you gave this number in the survey':'response', 'Why - Issue catagory ': 'category'})"
   ]
  },
  {
   "cell_type": "code",
   "execution_count": 61,
   "id": "3S7ls916GX35",
   "metadata": {
    "colab": {
     "base_uri": "https://localhost:8080/",
     "height": 206
    },
    "id": "3S7ls916GX35",
    "outputId": "49c69321-5e23-4570-f7b9-b95c5ee4b2a8"
   },
   "outputs": [
    {
     "data": {
      "text/html": [
       "<div>\n",
       "<style scoped>\n",
       "    .dataframe tbody tr th:only-of-type {\n",
       "        vertical-align: middle;\n",
       "    }\n",
       "\n",
       "    .dataframe tbody tr th {\n",
       "        vertical-align: top;\n",
       "    }\n",
       "\n",
       "    .dataframe thead th {\n",
       "        text-align: right;\n",
       "    }\n",
       "</style>\n",
       "<table border=\"1\" class=\"dataframe\">\n",
       "  <thead>\n",
       "    <tr style=\"text-align: right;\">\n",
       "      <th></th>\n",
       "      <th>response</th>\n",
       "      <th>Why - issue Category</th>\n",
       "    </tr>\n",
       "  </thead>\n",
       "  <tbody>\n",
       "    <tr>\n",
       "      <th>0</th>\n",
       "      <td>Easy</td>\n",
       "      <td>Layout/Navigation/Usablity</td>\n",
       "    </tr>\n",
       "    <tr>\n",
       "      <th>1</th>\n",
       "      <td>Easy</td>\n",
       "      <td>Layout/Navigation/Usablity</td>\n",
       "    </tr>\n",
       "    <tr>\n",
       "      <th>2</th>\n",
       "      <td>easy</td>\n",
       "      <td>Layout/Navigation/Usablity</td>\n",
       "    </tr>\n",
       "    <tr>\n",
       "      <th>3</th>\n",
       "      <td>easy</td>\n",
       "      <td>Layout/Navigation/Usablity</td>\n",
       "    </tr>\n",
       "    <tr>\n",
       "      <th>4</th>\n",
       "      <td>Simple</td>\n",
       "      <td>Layout/Navigation/Usablity</td>\n",
       "    </tr>\n",
       "  </tbody>\n",
       "</table>\n",
       "</div>"
      ],
      "text/plain": [
       "  response        Why - issue Category\n",
       "0     Easy  Layout/Navigation/Usablity\n",
       "1     Easy  Layout/Navigation/Usablity\n",
       "2     easy  Layout/Navigation/Usablity\n",
       "3     easy  Layout/Navigation/Usablity\n",
       "4   Simple  Layout/Navigation/Usablity"
      ]
     },
     "execution_count": 61,
     "metadata": {},
     "output_type": "execute_result"
    }
   ],
   "source": [
    "review.head()"
   ]
  },
  {
   "cell_type": "code",
   "execution_count": 62,
   "id": "d1379e9f",
   "metadata": {},
   "outputs": [],
   "source": [
    "# review['response']"
   ]
  },
  {
   "cell_type": "code",
   "execution_count": 63,
   "id": "fb6dc3a2",
   "metadata": {},
   "outputs": [
    {
     "data": {
      "text/plain": [
       "response                0\n",
       "Why - issue Category    0\n",
       "dtype: int64"
      ]
     },
     "execution_count": 63,
     "metadata": {},
     "output_type": "execute_result"
    }
   ],
   "source": [
    "#checking the drop values\n",
    "review.isna().sum()"
   ]
  },
  {
   "cell_type": "code",
   "execution_count": 64,
   "id": "55a18967",
   "metadata": {
    "id": "55a18967"
   },
   "outputs": [],
   "source": [
    "import re\n",
    "import gensim\n",
    "from nltk.corpus import stopwords\n",
    "from nltk.tokenize import word_tokenize\n",
    "from gensim.models import Word2Vec\n",
    "import nltk\n",
    "from xgboost import XGBClassifier\n",
    "import numpy as np"
   ]
  },
  {
   "cell_type": "code",
   "execution_count": 65,
   "id": "wOdoUCyp2Bqe",
   "metadata": {
    "colab": {
     "base_uri": "https://localhost:8080/"
    },
    "id": "wOdoUCyp2Bqe",
    "outputId": "f68322f5-7939-4f99-ea40-89272b733065"
   },
   "outputs": [
    {
     "name": "stderr",
     "output_type": "stream",
     "text": [
      "[nltk_data] Downloading package stopwords to\n",
      "[nltk_data]     C:\\Users\\User\\AppData\\Roaming\\nltk_data...\n",
      "[nltk_data]   Package stopwords is already up-to-date!\n"
     ]
    },
    {
     "data": {
      "text/plain": [
       "True"
      ]
     },
     "execution_count": 65,
     "metadata": {},
     "output_type": "execute_result"
    }
   ],
   "source": [
    "#loaidng the stop words from nltk library\n",
    "nltk.download('stopwords')"
   ]
  },
  {
   "cell_type": "code",
   "execution_count": 66,
   "id": "2c0af857",
   "metadata": {
    "id": "2c0af857"
   },
   "outputs": [],
   "source": [
    "#clean the non letters characters\n",
    "def clean_lower(text):\n",
    "    clean = re.sub('[^a-zA-Z]', ' ', str(text)).lower()\n",
    "    return clean"
   ]
  },
  {
   "cell_type": "code",
   "execution_count": 67,
   "id": "DlIrELbC13vQ",
   "metadata": {
    "id": "DlIrELbC13vQ"
   },
   "outputs": [],
   "source": [
    "#downloading the english stopwords \n",
    "stopwords_english = stopwords.words('english')"
   ]
  },
  {
   "cell_type": "code",
   "execution_count": 68,
   "id": "21650106",
   "metadata": {},
   "outputs": [],
   "source": [
    "# stopwords_english"
   ]
  },
  {
   "cell_type": "code",
   "execution_count": 69,
   "id": "N46d0nqcJfnh",
   "metadata": {
    "id": "N46d0nqcJfnh"
   },
   "outputs": [],
   "source": [
    "#stemmer from nltk library to extract the base words \n",
    "stemmer_english= nltk.SnowballStemmer('english')"
   ]
  },
  {
   "cell_type": "code",
   "execution_count": 70,
   "id": "16fe0793",
   "metadata": {},
   "outputs": [
    {
     "data": {
      "text/plain": [
       "'walk'"
      ]
     },
     "execution_count": 70,
     "metadata": {},
     "output_type": "execute_result"
    }
   ],
   "source": [
    "stemmer_english.stem('walking')"
   ]
  },
  {
   "cell_type": "code",
   "execution_count": 73,
   "id": "052aabbd",
   "metadata": {
    "id": "052aabbd"
   },
   "outputs": [],
   "source": [
    "stopwords_1= stopwords.words('english')\n",
    "#some more useless words from the texts \n",
    "more = ['u', 'im', 'c', 'o', 'hmm']\n",
    "#adding the useless words to the stopwords \n",
    "stopwords_english =  stopwords_1 + more"
   ]
  },
  {
   "cell_type": "code",
   "execution_count": 189,
   "id": "d7d9249b",
   "metadata": {
    "id": "d7d9249b"
   },
   "outputs": [],
   "source": [
    "#function for stemming of each sentences\n",
    "def preprocess_data(text):\n",
    "#     t = ''\n",
    "    text = clean_lower(text)\n",
    "    text = ' '.join(word for word in text.split(' ') if word not in stopwords_english)\n",
    "    text =' '.join([(stemmer_english.stem(word)) for word in text.split(' ')])\n",
    "    return text"
   ]
  },
  {
   "cell_type": "code",
   "execution_count": 110,
   "id": "b6a10c52",
   "metadata": {},
   "outputs": [],
   "source": [
    "# stopwords_1"
   ]
  },
  {
   "cell_type": "code",
   "execution_count": 190,
   "id": "802784de",
   "metadata": {},
   "outputs": [
    {
     "data": {
      "text/plain": [
       "'love data'"
      ]
     },
     "execution_count": 190,
     "metadata": {},
     "output_type": "execute_result"
    }
   ],
   "source": [
    "preprocess_data('i loving data')"
   ]
  },
  {
   "cell_type": "code",
   "execution_count": 178,
   "id": "ad1f7a40",
   "metadata": {},
   "outputs": [
    {
     "data": {
      "text/plain": [
       "array([1, 2, 3, 4, 5])"
      ]
     },
     "execution_count": 178,
     "metadata": {},
     "output_type": "execute_result"
    }
   ],
   "source": [
    "np.array([1,2,3,4,5])"
   ]
  },
  {
   "cell_type": "code",
   "execution_count": 193,
   "id": "5cb5c67b",
   "metadata": {
    "id": "5cb5c67b"
   },
   "outputs": [],
   "source": [
    "#applying the stem function to the responses\n",
    "review['response'] = review['response'].apply(lambda x: preprocess_data(x))"
   ]
  },
  {
   "cell_type": "code",
   "execution_count": 194,
   "id": "45QdFPkuJDyA",
   "metadata": {
    "colab": {
     "base_uri": "https://localhost:8080/"
    },
    "id": "45QdFPkuJDyA",
    "outputId": "2048f501-1f69-4bd2-a7f7-5f1948ed7e0c"
   },
   "outputs": [
    {
     "data": {
      "text/plain": [
       "0     easi\n",
       "1     easi\n",
       "2     easi\n",
       "3     easi\n",
       "4    simpl\n",
       "Name: response, dtype: object"
      ]
     },
     "execution_count": 194,
     "metadata": {},
     "output_type": "execute_result"
    }
   ],
   "source": [
    "review['response'].head()"
   ]
  },
  {
   "cell_type": "code",
   "execution_count": 195,
   "id": "hHOMvvOHS1W0",
   "metadata": {
    "colab": {
     "base_uri": "https://localhost:8080/",
     "height": 206
    },
    "id": "hHOMvvOHS1W0",
    "outputId": "835c4395-054c-4598-e27e-4cc488dfe7d6"
   },
   "outputs": [
    {
     "data": {
      "text/html": [
       "<div>\n",
       "<style scoped>\n",
       "    .dataframe tbody tr th:only-of-type {\n",
       "        vertical-align: middle;\n",
       "    }\n",
       "\n",
       "    .dataframe tbody tr th {\n",
       "        vertical-align: top;\n",
       "    }\n",
       "\n",
       "    .dataframe thead th {\n",
       "        text-align: right;\n",
       "    }\n",
       "</style>\n",
       "<table border=\"1\" class=\"dataframe\">\n",
       "  <thead>\n",
       "    <tr style=\"text-align: right;\">\n",
       "      <th></th>\n",
       "      <th>response</th>\n",
       "      <th>Why - issue Category</th>\n",
       "    </tr>\n",
       "  </thead>\n",
       "  <tbody>\n",
       "    <tr>\n",
       "      <th>0</th>\n",
       "      <td>easi</td>\n",
       "      <td>Layout/Navigation/Usablity</td>\n",
       "    </tr>\n",
       "    <tr>\n",
       "      <th>1</th>\n",
       "      <td>easi</td>\n",
       "      <td>Layout/Navigation/Usablity</td>\n",
       "    </tr>\n",
       "    <tr>\n",
       "      <th>2</th>\n",
       "      <td>easi</td>\n",
       "      <td>Layout/Navigation/Usablity</td>\n",
       "    </tr>\n",
       "    <tr>\n",
       "      <th>3</th>\n",
       "      <td>easi</td>\n",
       "      <td>Layout/Navigation/Usablity</td>\n",
       "    </tr>\n",
       "    <tr>\n",
       "      <th>4</th>\n",
       "      <td>simpl</td>\n",
       "      <td>Layout/Navigation/Usablity</td>\n",
       "    </tr>\n",
       "  </tbody>\n",
       "</table>\n",
       "</div>"
      ],
      "text/plain": [
       "  response        Why - issue Category\n",
       "0     easi  Layout/Navigation/Usablity\n",
       "1     easi  Layout/Navigation/Usablity\n",
       "2     easi  Layout/Navigation/Usablity\n",
       "3     easi  Layout/Navigation/Usablity\n",
       "4    simpl  Layout/Navigation/Usablity"
      ]
     },
     "execution_count": 195,
     "metadata": {},
     "output_type": "execute_result"
    }
   ],
   "source": [
    "review.head()"
   ]
  },
  {
   "cell_type": "code",
   "execution_count": 196,
   "id": "ce562815",
   "metadata": {},
   "outputs": [
    {
     "data": {
      "text/plain": [
       "Operational                   2152\n",
       "Layout/Navigation/Usablity    1973\n",
       "Others                         647\n",
       "Pricing/Cost                   525\n",
       "Support/Sales                  430\n",
       "Technical/Performance          224\n",
       "Name: Why - issue Category, dtype: int64"
      ]
     },
     "execution_count": 196,
     "metadata": {},
     "output_type": "execute_result"
    }
   ],
   "source": [
    "#number of issue cateogry\n",
    "review['Why - issue Category'].value_counts()"
   ]
  },
  {
   "cell_type": "code",
   "execution_count": 197,
   "id": "wid7BCAGIWHJ",
   "metadata": {
    "id": "wid7BCAGIWHJ"
   },
   "outputs": [],
   "source": [
    "#encoding the issue category as it is only 5\n",
    "review['encoded_catagory'] = review['Why - issue Category'].factorize()[0]"
   ]
  },
  {
   "cell_type": "code",
   "execution_count": 198,
   "id": "6c70628a",
   "metadata": {},
   "outputs": [
    {
     "data": {
      "text/html": [
       "<div>\n",
       "<style scoped>\n",
       "    .dataframe tbody tr th:only-of-type {\n",
       "        vertical-align: middle;\n",
       "    }\n",
       "\n",
       "    .dataframe tbody tr th {\n",
       "        vertical-align: top;\n",
       "    }\n",
       "\n",
       "    .dataframe thead th {\n",
       "        text-align: right;\n",
       "    }\n",
       "</style>\n",
       "<table border=\"1\" class=\"dataframe\">\n",
       "  <thead>\n",
       "    <tr style=\"text-align: right;\">\n",
       "      <th></th>\n",
       "      <th>response</th>\n",
       "      <th>Why - issue Category</th>\n",
       "      <th>encoded_catagory</th>\n",
       "    </tr>\n",
       "  </thead>\n",
       "  <tbody>\n",
       "    <tr>\n",
       "      <th>0</th>\n",
       "      <td>easi</td>\n",
       "      <td>Layout/Navigation/Usablity</td>\n",
       "      <td>0</td>\n",
       "    </tr>\n",
       "    <tr>\n",
       "      <th>1</th>\n",
       "      <td>easi</td>\n",
       "      <td>Layout/Navigation/Usablity</td>\n",
       "      <td>0</td>\n",
       "    </tr>\n",
       "    <tr>\n",
       "      <th>2</th>\n",
       "      <td>easi</td>\n",
       "      <td>Layout/Navigation/Usablity</td>\n",
       "      <td>0</td>\n",
       "    </tr>\n",
       "    <tr>\n",
       "      <th>3</th>\n",
       "      <td>easi</td>\n",
       "      <td>Layout/Navigation/Usablity</td>\n",
       "      <td>0</td>\n",
       "    </tr>\n",
       "    <tr>\n",
       "      <th>4</th>\n",
       "      <td>simpl</td>\n",
       "      <td>Layout/Navigation/Usablity</td>\n",
       "      <td>0</td>\n",
       "    </tr>\n",
       "  </tbody>\n",
       "</table>\n",
       "</div>"
      ],
      "text/plain": [
       "  response        Why - issue Category  encoded_catagory\n",
       "0     easi  Layout/Navigation/Usablity                 0\n",
       "1     easi  Layout/Navigation/Usablity                 0\n",
       "2     easi  Layout/Navigation/Usablity                 0\n",
       "3     easi  Layout/Navigation/Usablity                 0\n",
       "4    simpl  Layout/Navigation/Usablity                 0"
      ]
     },
     "execution_count": 198,
     "metadata": {},
     "output_type": "execute_result"
    }
   ],
   "source": [
    "review.head()"
   ]
  },
  {
   "cell_type": "code",
   "execution_count": 199,
   "id": "88482546",
   "metadata": {
    "id": "88482546"
   },
   "outputs": [],
   "source": [
    "# code, label = \n",
    "# review['Why - issue Category'].factorize()"
   ]
  },
  {
   "cell_type": "code",
   "execution_count": 106,
   "id": "oUYgUflF2cqf",
   "metadata": {
    "colab": {
     "base_uri": "https://localhost:8080/"
    },
    "id": "oUYgUflF2cqf",
    "outputId": "d7ccc72d-630e-4f0c-95ae-55ca61bfabbd"
   },
   "outputs": [],
   "source": [
    "# encoding = {}\n",
    "# for inx, value in enumerate(label):\n",
    "#   encoding[inx] = value\n",
    "#   # print(inx, value\n",
    "# print(encoding)\n"
   ]
  },
  {
   "cell_type": "code",
   "execution_count": 200,
   "id": "41a82eef",
   "metadata": {
    "id": "41a82eef"
   },
   "outputs": [],
   "source": [
    "#selecting the dependant and independent variables \n",
    "X= review['response']\n",
    "y = review['encoded_catagory']"
   ]
  },
  {
   "cell_type": "code",
   "execution_count": 201,
   "id": "9490507f",
   "metadata": {},
   "outputs": [
    {
     "data": {
      "text/plain": [
       "0    0\n",
       "1    0\n",
       "2    0\n",
       "3    0\n",
       "4    0\n",
       "Name: encoded_catagory, dtype: int64"
      ]
     },
     "execution_count": 201,
     "metadata": {},
     "output_type": "execute_result"
    }
   ],
   "source": [
    "y.head()"
   ]
  },
  {
   "cell_type": "code",
   "execution_count": 202,
   "id": "2af37171",
   "metadata": {
    "id": "2af37171"
   },
   "outputs": [],
   "source": [
    "from sklearn.model_selection import train_test_split"
   ]
  },
  {
   "cell_type": "code",
   "execution_count": 203,
   "id": "cf63fe71",
   "metadata": {
    "id": "cf63fe71"
   },
   "outputs": [],
   "source": [
    "X_train, X_test, y_train, y_test = train_test_split(X,y, test_size=0.2, random_state=0)"
   ]
  },
  {
   "cell_type": "code",
   "execution_count": 204,
   "id": "2033a112",
   "metadata": {
    "colab": {
     "base_uri": "https://localhost:8080/"
    },
    "id": "2033a112",
    "outputId": "951517ff-9423-452f-d8c2-f6a64e471867"
   },
   "outputs": [
    {
     "name": "stdout",
     "output_type": "stream",
     "text": [
      "4760 1191\n",
      "4760 1191\n"
     ]
    }
   ],
   "source": [
    "print(X_train.shape[0], X_test.shape[0])\n",
    "print(y_train.shape[0], y_test.shape[0])"
   ]
  },
  {
   "cell_type": "code",
   "execution_count": 205,
   "id": "gSBEJavj3V-H",
   "metadata": {
    "id": "gSBEJavj3V-H"
   },
   "outputs": [],
   "source": [
    "#importing word2vec from gensim\n",
    "import numpy as np\n",
    "from gensim.models import Word2Vec"
   ]
  },
  {
   "cell_type": "code",
   "execution_count": 206,
   "id": "-dJoPRgi3jFB",
   "metadata": {
    "id": "-dJoPRgi3jFB"
   },
   "outputs": [],
   "source": [
    "sentences= [review for review in X_train]"
   ]
  },
  {
   "cell_type": "code",
   "execution_count": 207,
   "id": "oMcuWR6pUXqv",
   "metadata": {
    "colab": {
     "base_uri": "https://localhost:8080/"
    },
    "id": "oMcuWR6pUXqv",
    "outputId": "face97b0-281d-42e3-df04-39d396a3d811"
   },
   "outputs": [],
   "source": [
    "#word2vec (from gensim library) model for the sentences\n",
    "model = Word2Vec(sentences, min_count=1, vector_size=500, workers=6, window=5, sg=0)"
   ]
  },
  {
   "cell_type": "code",
   "execution_count": 208,
   "id": "Jy6Ro5Pp3T7V",
   "metadata": {
    "id": "Jy6Ro5Pp3T7V"
   },
   "outputs": [],
   "source": [
    "#creating function for embedding\n",
    "def get_cbow_embeddings(model, corpus):\n",
    "    embeddings = np.zeros((len(corpus), model.wv.vector_size))\n",
    "    for i, sentence in enumerate(corpus):\n",
    "        sentence_embeddings = [model.wv.get_vector(word) for word in sentence if model.wv.has_index_for(word)]\n",
    "        if len(sentence_embeddings) > 0:\n",
    "            embeddings[i] = np.mean(sentence_embeddings, axis=0)\n",
    "    return embeddings\n",
    "\n",
    "# Convert train and test sets to Word2Vec CBoW embeddings\n",
    "X_train_w2v = get_cbow_embeddings(model, X_train)\n",
    "X_test_w2v = get_cbow_embeddings(model, X_test)\n"
   ]
  },
  {
   "cell_type": "code",
   "execution_count": 209,
   "id": "088d2864",
   "metadata": {},
   "outputs": [
    {
     "data": {
      "text/plain": [
       "(4760, 500)"
      ]
     },
     "execution_count": 209,
     "metadata": {},
     "output_type": "execute_result"
    }
   ],
   "source": [
    "X_train_w2v.shape"
   ]
  },
  {
   "cell_type": "code",
   "execution_count": 210,
   "id": "85ccc394",
   "metadata": {},
   "outputs": [
    {
     "data": {
      "text/plain": [
       "(1191, 500)"
      ]
     },
     "execution_count": 210,
     "metadata": {},
     "output_type": "execute_result"
    }
   ],
   "source": [
    "X_test_w2v.shape"
   ]
  },
  {
   "cell_type": "code",
   "execution_count": 211,
   "id": "5WNMDmSW4E2w",
   "metadata": {
    "id": "5WNMDmSW4E2w"
   },
   "outputs": [],
   "source": [
    "#machine learnig model for classification \n",
    "from sklearn.naive_bayes import GaussianNB, MultinomialNB\n",
    "from xgboost import XGBClassifier\n",
    "from sklearn.metrics import accuracy_score, confusion_matrix, classification_report"
   ]
  },
  {
   "cell_type": "code",
   "execution_count": 212,
   "id": "p786mr5b3T_R",
   "metadata": {
    "colab": {
     "base_uri": "https://localhost:8080/"
    },
    "id": "p786mr5b3T_R",
    "outputId": "5a9d9959-ca27-490f-a6aa-ce6911e1e4fa"
   },
   "outputs": [],
   "source": [
    "gnb_w2v = GaussianNB()\n",
    "gnb_w2v.fit(X_train_w2v, y_train)\n",
    "y_pred_w2v = gnb_w2v.predict(X_test_w2v)\n",
    "\n",
    "accuracy_w2v = accuracy_score(y_test, y_pred_w2v)\n",
    "confusion_matrix_w2v = confusion_matrix(y_test, y_pred_w2v,labels=[1,0])\n",
    "report_w2v = classification_report(y_test, y_pred_w2v)"
   ]
  },
  {
   "cell_type": "code",
   "execution_count": 213,
   "id": "PNdbFUbi4dW-",
   "metadata": {
    "colab": {
     "base_uri": "https://localhost:8080/"
    },
    "id": "PNdbFUbi4dW-",
    "outputId": "dc578583-ec81-4f4a-f0de-39a14ad845a1"
   },
   "outputs": [
    {
     "name": "stdout",
     "output_type": "stream",
     "text": [
      "              precision    recall  f1-score   support\n",
      "\n",
      "           0       0.50      0.14      0.22       398\n",
      "           1       0.61      0.29      0.39       430\n",
      "           2       0.26      0.32      0.29       143\n",
      "           3       0.12      0.25      0.17       100\n",
      "           4       0.06      0.51      0.11        41\n",
      "           5       0.17      0.35      0.23        79\n",
      "\n",
      "    accuracy                           0.25      1191\n",
      "   macro avg       0.29      0.31      0.23      1191\n",
      "weighted avg       0.44      0.25      0.28      1191\n",
      "\n"
     ]
    }
   ],
   "source": [
    "print(report_w2v)"
   ]
  },
  {
   "cell_type": "code",
   "execution_count": 214,
   "id": "NZD_ElXB4jP1",
   "metadata": {
    "colab": {
     "base_uri": "https://localhost:8080/"
    },
    "id": "NZD_ElXB4jP1",
    "outputId": "46001ff9-0aff-4711-d58b-77e5bcddbefd"
   },
   "outputs": [
    {
     "data": {
      "text/plain": [
       "0.2518891687657431"
      ]
     },
     "execution_count": 214,
     "metadata": {},
     "output_type": "execute_result"
    }
   ],
   "source": [
    "accuracy_w2v"
   ]
  },
  {
   "cell_type": "code",
   "execution_count": 215,
   "id": "LOAgEClkTvLJ",
   "metadata": {
    "colab": {
     "base_uri": "https://localhost:8080/"
    },
    "id": "LOAgEClkTvLJ",
    "outputId": "b4ed2a38-33aa-4f31-c06f-6df12146912c"
   },
   "outputs": [
    {
     "name": "stderr",
     "output_type": "stream",
     "text": [
      "[nltk_data] Downloading package punkt to\n",
      "[nltk_data]     C:\\Users\\User\\AppData\\Roaming\\nltk_data...\n",
      "[nltk_data]   Package punkt is already up-to-date!\n"
     ]
    },
    {
     "data": {
      "text/plain": [
       "True"
      ]
     },
     "execution_count": 215,
     "metadata": {},
     "output_type": "execute_result"
    }
   ],
   "source": [
    "#tokenizing\n",
    "from nltk.tokenize import sent_tokenize, word_tokenize\n",
    "nltk.download('punkt')"
   ]
  },
  {
   "cell_type": "markdown",
   "id": "a52864bd",
   "metadata": {},
   "source": [
    "# Using Countvectorization and Tfidf transformer"
   ]
  },
  {
   "cell_type": "code",
   "execution_count": 222,
   "id": "18396be7",
   "metadata": {
    "id": "18396be7"
   },
   "outputs": [],
   "source": [
    "from sklearn.feature_extraction.text import CountVectorizer\n",
    "vec = CountVectorizer()"
   ]
  },
  {
   "cell_type": "code",
   "execution_count": 225,
   "id": "97d20353",
   "metadata": {
    "id": "97d20353"
   },
   "outputs": [],
   "source": [
    "X_train_vec = vec.fit_transform(X_train)\n",
    "X_test_vec = vec.transform(X_test)"
   ]
  },
  {
   "cell_type": "code",
   "execution_count": 230,
   "id": "ad2f2e16",
   "metadata": {
    "id": "ad2f2e16"
   },
   "outputs": [],
   "source": [
    "from sklearn.feature_extraction.text import TfidfTransformer"
   ]
  },
  {
   "cell_type": "code",
   "execution_count": 231,
   "id": "6fd4693d",
   "metadata": {
    "id": "6fd4693d"
   },
   "outputs": [],
   "source": [
    "tfidf_transformer = TfidfTransformer().fit(X_train_vec)"
   ]
  },
  {
   "cell_type": "code",
   "execution_count": 232,
   "id": "c015e93b",
   "metadata": {
    "id": "c015e93b"
   },
   "outputs": [],
   "source": [
    "X_train_vec_tfidf = tfidf_transformer.transform(X_train_vec)\n",
    "X_test_vec_tfidf  = tfidf_transformer.transform(X_test_vec)"
   ]
  },
  {
   "cell_type": "code",
   "execution_count": 233,
   "id": "b0f6cda9",
   "metadata": {
    "id": "b0f6cda9"
   },
   "outputs": [],
   "source": [
    "from sklearn.naive_bayes import MultinomialNB"
   ]
  },
  {
   "cell_type": "code",
   "execution_count": 221,
   "id": "fRqaFUTSHztx",
   "metadata": {
    "colab": {
     "base_uri": "https://localhost:8080/"
    },
    "id": "fRqaFUTSHztx",
    "outputId": "de3f62a7-9994-4e22-f466-083a5b5505ba"
   },
   "outputs": [
    {
     "data": {
      "text/plain": [
       "1705                                    keep chang websit\n",
       "2549                                 web site user friend\n",
       "295                                           good servic\n",
       "4865    guy consist matter   long thing stay better good \n",
       "2285                                  alway seem consist \n",
       "Name: response, dtype: object"
      ]
     },
     "execution_count": 221,
     "metadata": {},
     "output_type": "execute_result"
    }
   ],
   "source": [
    "X_train.head()"
   ]
  },
  {
   "cell_type": "code",
   "execution_count": 234,
   "id": "dfe9436e",
   "metadata": {
    "id": "dfe9436e"
   },
   "outputs": [],
   "source": [
    "nb_model = MultinomialNB().fit(X_train_vec_tfidf, y_train)"
   ]
  },
  {
   "cell_type": "code",
   "execution_count": 235,
   "id": "c2905733",
   "metadata": {
    "id": "c2905733"
   },
   "outputs": [],
   "source": [
    "y_predict = nb_model.predict(X_test_vec_tfidf)"
   ]
  },
  {
   "cell_type": "code",
   "execution_count": null,
   "id": "259640b7",
   "metadata": {},
   "outputs": [],
   "source": [
    "def preprocess_data(text):\n",
    "    text = clean_lower(text)\n",
    "    text = ' '.join(word for word in text.split(' ') if word not in stopwords_english)\n",
    "    text = ' '.join(stemmer_english.stem(word) for word in text.split(' '))\n",
    "    return text"
   ]
  },
  {
   "cell_type": "code",
   "execution_count": 237,
   "id": "8630d10f",
   "metadata": {
    "id": "8630d10f"
   },
   "outputs": [],
   "source": [
    "from sklearn.pipeline import Pipeline"
   ]
  },
  {
   "cell_type": "markdown",
   "id": "7GG4TWwjMfkV",
   "metadata": {
    "id": "7GG4TWwjMfkV"
   },
   "source": [
    "# MultinomialNB"
   ]
  },
  {
   "cell_type": "code",
   "execution_count": 239,
   "id": "d61dc4fb",
   "metadata": {
    "id": "d61dc4fb"
   },
   "outputs": [],
   "source": [
    "#Pipeline for performing CountVectorization, tfidf, and classification algorithom fitting \n",
    "nlp_pipeline_mnb = Pipeline([\n",
    "('bow', CountVectorizer(analyzer=preprocess_data)),\n",
    "('tfidf', TfidfTransformer() ),\n",
    "('classifer', MultinomialNB() )\n",
    "])"
   ]
  },
  {
   "cell_type": "code",
   "execution_count": 240,
   "id": "cfcf2ea7",
   "metadata": {
    "colab": {
     "base_uri": "https://localhost:8080/",
     "height": 159
    },
    "id": "cfcf2ea7",
    "outputId": "fb0fba74-0bd2-4dca-a211-891ee439972b"
   },
   "outputs": [
    {
     "data": {
      "text/html": [
       "<style>#sk-container-id-1 {color: black;background-color: white;}#sk-container-id-1 pre{padding: 0;}#sk-container-id-1 div.sk-toggleable {background-color: white;}#sk-container-id-1 label.sk-toggleable__label {cursor: pointer;display: block;width: 100%;margin-bottom: 0;padding: 0.3em;box-sizing: border-box;text-align: center;}#sk-container-id-1 label.sk-toggleable__label-arrow:before {content: \"▸\";float: left;margin-right: 0.25em;color: #696969;}#sk-container-id-1 label.sk-toggleable__label-arrow:hover:before {color: black;}#sk-container-id-1 div.sk-estimator:hover label.sk-toggleable__label-arrow:before {color: black;}#sk-container-id-1 div.sk-toggleable__content {max-height: 0;max-width: 0;overflow: hidden;text-align: left;background-color: #f0f8ff;}#sk-container-id-1 div.sk-toggleable__content pre {margin: 0.2em;color: black;border-radius: 0.25em;background-color: #f0f8ff;}#sk-container-id-1 input.sk-toggleable__control:checked~div.sk-toggleable__content {max-height: 200px;max-width: 100%;overflow: auto;}#sk-container-id-1 input.sk-toggleable__control:checked~label.sk-toggleable__label-arrow:before {content: \"▾\";}#sk-container-id-1 div.sk-estimator input.sk-toggleable__control:checked~label.sk-toggleable__label {background-color: #d4ebff;}#sk-container-id-1 div.sk-label input.sk-toggleable__control:checked~label.sk-toggleable__label {background-color: #d4ebff;}#sk-container-id-1 input.sk-hidden--visually {border: 0;clip: rect(1px 1px 1px 1px);clip: rect(1px, 1px, 1px, 1px);height: 1px;margin: -1px;overflow: hidden;padding: 0;position: absolute;width: 1px;}#sk-container-id-1 div.sk-estimator {font-family: monospace;background-color: #f0f8ff;border: 1px dotted black;border-radius: 0.25em;box-sizing: border-box;margin-bottom: 0.5em;}#sk-container-id-1 div.sk-estimator:hover {background-color: #d4ebff;}#sk-container-id-1 div.sk-parallel-item::after {content: \"\";width: 100%;border-bottom: 1px solid gray;flex-grow: 1;}#sk-container-id-1 div.sk-label:hover label.sk-toggleable__label {background-color: #d4ebff;}#sk-container-id-1 div.sk-serial::before {content: \"\";position: absolute;border-left: 1px solid gray;box-sizing: border-box;top: 0;bottom: 0;left: 50%;z-index: 0;}#sk-container-id-1 div.sk-serial {display: flex;flex-direction: column;align-items: center;background-color: white;padding-right: 0.2em;padding-left: 0.2em;position: relative;}#sk-container-id-1 div.sk-item {position: relative;z-index: 1;}#sk-container-id-1 div.sk-parallel {display: flex;align-items: stretch;justify-content: center;background-color: white;position: relative;}#sk-container-id-1 div.sk-item::before, #sk-container-id-1 div.sk-parallel-item::before {content: \"\";position: absolute;border-left: 1px solid gray;box-sizing: border-box;top: 0;bottom: 0;left: 50%;z-index: -1;}#sk-container-id-1 div.sk-parallel-item {display: flex;flex-direction: column;z-index: 1;position: relative;background-color: white;}#sk-container-id-1 div.sk-parallel-item:first-child::after {align-self: flex-end;width: 50%;}#sk-container-id-1 div.sk-parallel-item:last-child::after {align-self: flex-start;width: 50%;}#sk-container-id-1 div.sk-parallel-item:only-child::after {width: 0;}#sk-container-id-1 div.sk-dashed-wrapped {border: 1px dashed gray;margin: 0 0.4em 0.5em 0.4em;box-sizing: border-box;padding-bottom: 0.4em;background-color: white;}#sk-container-id-1 div.sk-label label {font-family: monospace;font-weight: bold;display: inline-block;line-height: 1.2em;}#sk-container-id-1 div.sk-label-container {text-align: center;}#sk-container-id-1 div.sk-container {/* jupyter's `normalize.less` sets `[hidden] { display: none; }` but bootstrap.min.css set `[hidden] { display: none !important; }` so we also need the `!important` here to be able to override the default hidden behavior on the sphinx rendered scikit-learn.org. See: https://github.com/scikit-learn/scikit-learn/issues/21755 */display: inline-block !important;position: relative;}#sk-container-id-1 div.sk-text-repr-fallback {display: none;}</style><div id=\"sk-container-id-1\" class=\"sk-top-container\"><div class=\"sk-text-repr-fallback\"><pre>Pipeline(steps=[(&#x27;bow&#x27;,\n",
       "                 CountVectorizer(analyzer=&lt;function preprocess_data at 0x000001CE26F0DA20&gt;)),\n",
       "                (&#x27;tfidf&#x27;, TfidfTransformer()), (&#x27;classifer&#x27;, MultinomialNB())])</pre><b>In a Jupyter environment, please rerun this cell to show the HTML representation or trust the notebook. <br />On GitHub, the HTML representation is unable to render, please try loading this page with nbviewer.org.</b></div><div class=\"sk-container\" hidden><div class=\"sk-item sk-dashed-wrapped\"><div class=\"sk-label-container\"><div class=\"sk-label sk-toggleable\"><input class=\"sk-toggleable__control sk-hidden--visually\" id=\"sk-estimator-id-1\" type=\"checkbox\" ><label for=\"sk-estimator-id-1\" class=\"sk-toggleable__label sk-toggleable__label-arrow\">Pipeline</label><div class=\"sk-toggleable__content\"><pre>Pipeline(steps=[(&#x27;bow&#x27;,\n",
       "                 CountVectorizer(analyzer=&lt;function preprocess_data at 0x000001CE26F0DA20&gt;)),\n",
       "                (&#x27;tfidf&#x27;, TfidfTransformer()), (&#x27;classifer&#x27;, MultinomialNB())])</pre></div></div></div><div class=\"sk-serial\"><div class=\"sk-item\"><div class=\"sk-estimator sk-toggleable\"><input class=\"sk-toggleable__control sk-hidden--visually\" id=\"sk-estimator-id-2\" type=\"checkbox\" ><label for=\"sk-estimator-id-2\" class=\"sk-toggleable__label sk-toggleable__label-arrow\">CountVectorizer</label><div class=\"sk-toggleable__content\"><pre>CountVectorizer(analyzer=&lt;function preprocess_data at 0x000001CE26F0DA20&gt;)</pre></div></div></div><div class=\"sk-item\"><div class=\"sk-estimator sk-toggleable\"><input class=\"sk-toggleable__control sk-hidden--visually\" id=\"sk-estimator-id-3\" type=\"checkbox\" ><label for=\"sk-estimator-id-3\" class=\"sk-toggleable__label sk-toggleable__label-arrow\">TfidfTransformer</label><div class=\"sk-toggleable__content\"><pre>TfidfTransformer()</pre></div></div></div><div class=\"sk-item\"><div class=\"sk-estimator sk-toggleable\"><input class=\"sk-toggleable__control sk-hidden--visually\" id=\"sk-estimator-id-4\" type=\"checkbox\" ><label for=\"sk-estimator-id-4\" class=\"sk-toggleable__label sk-toggleable__label-arrow\">MultinomialNB</label><div class=\"sk-toggleable__content\"><pre>MultinomialNB()</pre></div></div></div></div></div></div></div>"
      ],
      "text/plain": [
       "Pipeline(steps=[('bow',\n",
       "                 CountVectorizer(analyzer=<function preprocess_data at 0x000001CE26F0DA20>)),\n",
       "                ('tfidf', TfidfTransformer()), ('classifer', MultinomialNB())])"
      ]
     },
     "execution_count": 240,
     "metadata": {},
     "output_type": "execute_result"
    }
   ],
   "source": [
    "nlp_pipeline_mnb.fit(X_train, y_train)"
   ]
  },
  {
   "cell_type": "code",
   "execution_count": 255,
   "id": "7cd375bb",
   "metadata": {},
   "outputs": [],
   "source": [
    "y_pred_mnb = nlp_pipeline_mnb.predict(X_test)"
   ]
  },
  {
   "cell_type": "code",
   "execution_count": 256,
   "id": "4500d68a",
   "metadata": {},
   "outputs": [
    {
     "data": {
      "text/plain": [
       "0.5037783375314862"
      ]
     },
     "execution_count": 256,
     "metadata": {},
     "output_type": "execute_result"
    }
   ],
   "source": [
    "accuracy_score(y_pred_mnb, y_test)"
   ]
  },
  {
   "cell_type": "markdown",
   "id": "F_v9Y9H_MsF1",
   "metadata": {
    "id": "F_v9Y9H_MsF1"
   },
   "source": [
    "# SVC"
   ]
  },
  {
   "cell_type": "code",
   "execution_count": 238,
   "id": "a40135ca",
   "metadata": {
    "id": "a40135ca"
   },
   "outputs": [],
   "source": [
    "def preprocess_data(text):\n",
    "    text = clean_lower(text)\n",
    "    text = ' '.join(word for word in text.split(' ') if word not in stopwords_english)\n",
    "    text = ' '.join(stemmer_english.stem(word) for word in text.split(' '))\n",
    "    return text"
   ]
  },
  {
   "cell_type": "code",
   "execution_count": 241,
   "id": "3a76dad4",
   "metadata": {
    "id": "3a76dad4"
   },
   "outputs": [],
   "source": [
    "from sklearn.svm import SVC\n",
    "\n",
    "nlp_pipeline_svc = Pipeline([\n",
    "('bow', CountVectorizer(analyzer=preprocess_data)),\n",
    "('tfidf', TfidfTransformer() ),\n",
    "('classifer', SVC() )\n",
    "\n",
    "\n",
    "])"
   ]
  },
  {
   "cell_type": "code",
   "execution_count": 242,
   "id": "d4da81c1",
   "metadata": {
    "colab": {
     "base_uri": "https://localhost:8080/",
     "height": 159
    },
    "id": "d4da81c1",
    "outputId": "b8e232a6-9f0c-4390-8e42-c6d876308ba6"
   },
   "outputs": [
    {
     "data": {
      "text/html": [
       "<style>#sk-container-id-2 {color: black;background-color: white;}#sk-container-id-2 pre{padding: 0;}#sk-container-id-2 div.sk-toggleable {background-color: white;}#sk-container-id-2 label.sk-toggleable__label {cursor: pointer;display: block;width: 100%;margin-bottom: 0;padding: 0.3em;box-sizing: border-box;text-align: center;}#sk-container-id-2 label.sk-toggleable__label-arrow:before {content: \"▸\";float: left;margin-right: 0.25em;color: #696969;}#sk-container-id-2 label.sk-toggleable__label-arrow:hover:before {color: black;}#sk-container-id-2 div.sk-estimator:hover label.sk-toggleable__label-arrow:before {color: black;}#sk-container-id-2 div.sk-toggleable__content {max-height: 0;max-width: 0;overflow: hidden;text-align: left;background-color: #f0f8ff;}#sk-container-id-2 div.sk-toggleable__content pre {margin: 0.2em;color: black;border-radius: 0.25em;background-color: #f0f8ff;}#sk-container-id-2 input.sk-toggleable__control:checked~div.sk-toggleable__content {max-height: 200px;max-width: 100%;overflow: auto;}#sk-container-id-2 input.sk-toggleable__control:checked~label.sk-toggleable__label-arrow:before {content: \"▾\";}#sk-container-id-2 div.sk-estimator input.sk-toggleable__control:checked~label.sk-toggleable__label {background-color: #d4ebff;}#sk-container-id-2 div.sk-label input.sk-toggleable__control:checked~label.sk-toggleable__label {background-color: #d4ebff;}#sk-container-id-2 input.sk-hidden--visually {border: 0;clip: rect(1px 1px 1px 1px);clip: rect(1px, 1px, 1px, 1px);height: 1px;margin: -1px;overflow: hidden;padding: 0;position: absolute;width: 1px;}#sk-container-id-2 div.sk-estimator {font-family: monospace;background-color: #f0f8ff;border: 1px dotted black;border-radius: 0.25em;box-sizing: border-box;margin-bottom: 0.5em;}#sk-container-id-2 div.sk-estimator:hover {background-color: #d4ebff;}#sk-container-id-2 div.sk-parallel-item::after {content: \"\";width: 100%;border-bottom: 1px solid gray;flex-grow: 1;}#sk-container-id-2 div.sk-label:hover label.sk-toggleable__label {background-color: #d4ebff;}#sk-container-id-2 div.sk-serial::before {content: \"\";position: absolute;border-left: 1px solid gray;box-sizing: border-box;top: 0;bottom: 0;left: 50%;z-index: 0;}#sk-container-id-2 div.sk-serial {display: flex;flex-direction: column;align-items: center;background-color: white;padding-right: 0.2em;padding-left: 0.2em;position: relative;}#sk-container-id-2 div.sk-item {position: relative;z-index: 1;}#sk-container-id-2 div.sk-parallel {display: flex;align-items: stretch;justify-content: center;background-color: white;position: relative;}#sk-container-id-2 div.sk-item::before, #sk-container-id-2 div.sk-parallel-item::before {content: \"\";position: absolute;border-left: 1px solid gray;box-sizing: border-box;top: 0;bottom: 0;left: 50%;z-index: -1;}#sk-container-id-2 div.sk-parallel-item {display: flex;flex-direction: column;z-index: 1;position: relative;background-color: white;}#sk-container-id-2 div.sk-parallel-item:first-child::after {align-self: flex-end;width: 50%;}#sk-container-id-2 div.sk-parallel-item:last-child::after {align-self: flex-start;width: 50%;}#sk-container-id-2 div.sk-parallel-item:only-child::after {width: 0;}#sk-container-id-2 div.sk-dashed-wrapped {border: 1px dashed gray;margin: 0 0.4em 0.5em 0.4em;box-sizing: border-box;padding-bottom: 0.4em;background-color: white;}#sk-container-id-2 div.sk-label label {font-family: monospace;font-weight: bold;display: inline-block;line-height: 1.2em;}#sk-container-id-2 div.sk-label-container {text-align: center;}#sk-container-id-2 div.sk-container {/* jupyter's `normalize.less` sets `[hidden] { display: none; }` but bootstrap.min.css set `[hidden] { display: none !important; }` so we also need the `!important` here to be able to override the default hidden behavior on the sphinx rendered scikit-learn.org. See: https://github.com/scikit-learn/scikit-learn/issues/21755 */display: inline-block !important;position: relative;}#sk-container-id-2 div.sk-text-repr-fallback {display: none;}</style><div id=\"sk-container-id-2\" class=\"sk-top-container\"><div class=\"sk-text-repr-fallback\"><pre>Pipeline(steps=[(&#x27;bow&#x27;,\n",
       "                 CountVectorizer(analyzer=&lt;function preprocess_data at 0x000001CE26F0DA20&gt;)),\n",
       "                (&#x27;tfidf&#x27;, TfidfTransformer()), (&#x27;classifer&#x27;, SVC())])</pre><b>In a Jupyter environment, please rerun this cell to show the HTML representation or trust the notebook. <br />On GitHub, the HTML representation is unable to render, please try loading this page with nbviewer.org.</b></div><div class=\"sk-container\" hidden><div class=\"sk-item sk-dashed-wrapped\"><div class=\"sk-label-container\"><div class=\"sk-label sk-toggleable\"><input class=\"sk-toggleable__control sk-hidden--visually\" id=\"sk-estimator-id-5\" type=\"checkbox\" ><label for=\"sk-estimator-id-5\" class=\"sk-toggleable__label sk-toggleable__label-arrow\">Pipeline</label><div class=\"sk-toggleable__content\"><pre>Pipeline(steps=[(&#x27;bow&#x27;,\n",
       "                 CountVectorizer(analyzer=&lt;function preprocess_data at 0x000001CE26F0DA20&gt;)),\n",
       "                (&#x27;tfidf&#x27;, TfidfTransformer()), (&#x27;classifer&#x27;, SVC())])</pre></div></div></div><div class=\"sk-serial\"><div class=\"sk-item\"><div class=\"sk-estimator sk-toggleable\"><input class=\"sk-toggleable__control sk-hidden--visually\" id=\"sk-estimator-id-6\" type=\"checkbox\" ><label for=\"sk-estimator-id-6\" class=\"sk-toggleable__label sk-toggleable__label-arrow\">CountVectorizer</label><div class=\"sk-toggleable__content\"><pre>CountVectorizer(analyzer=&lt;function preprocess_data at 0x000001CE26F0DA20&gt;)</pre></div></div></div><div class=\"sk-item\"><div class=\"sk-estimator sk-toggleable\"><input class=\"sk-toggleable__control sk-hidden--visually\" id=\"sk-estimator-id-7\" type=\"checkbox\" ><label for=\"sk-estimator-id-7\" class=\"sk-toggleable__label sk-toggleable__label-arrow\">TfidfTransformer</label><div class=\"sk-toggleable__content\"><pre>TfidfTransformer()</pre></div></div></div><div class=\"sk-item\"><div class=\"sk-estimator sk-toggleable\"><input class=\"sk-toggleable__control sk-hidden--visually\" id=\"sk-estimator-id-8\" type=\"checkbox\" ><label for=\"sk-estimator-id-8\" class=\"sk-toggleable__label sk-toggleable__label-arrow\">SVC</label><div class=\"sk-toggleable__content\"><pre>SVC()</pre></div></div></div></div></div></div></div>"
      ],
      "text/plain": [
       "Pipeline(steps=[('bow',\n",
       "                 CountVectorizer(analyzer=<function preprocess_data at 0x000001CE26F0DA20>)),\n",
       "                ('tfidf', TfidfTransformer()), ('classifer', SVC())])"
      ]
     },
     "execution_count": 242,
     "metadata": {},
     "output_type": "execute_result"
    }
   ],
   "source": [
    "nlp_pipeline_svc.fit(X_train, y_train)"
   ]
  },
  {
   "cell_type": "code",
   "execution_count": 243,
   "id": "8d27585b",
   "metadata": {
    "id": "8d27585b"
   },
   "outputs": [],
   "source": [
    "y_predict_svc = nlp_pipeline_svc.predict(X_test)"
   ]
  },
  {
   "cell_type": "code",
   "execution_count": 244,
   "id": "3LT6MP84K1RI",
   "metadata": {
    "colab": {
     "base_uri": "https://localhost:8080/"
    },
    "id": "3LT6MP84K1RI",
    "outputId": "5da5418e-7a21-4c14-c719-26afb2aea41a"
   },
   "outputs": [
    {
     "data": {
      "text/plain": [
       "0.6020151133501259"
      ]
     },
     "execution_count": 244,
     "metadata": {},
     "output_type": "execute_result"
    }
   ],
   "source": [
    "accuracy_score(y_predict_svc, y_test)"
   ]
  },
  {
   "cell_type": "markdown",
   "id": "nXzRqtKLMxQl",
   "metadata": {
    "id": "nXzRqtKLMxQl"
   },
   "source": [
    "# XGBoost"
   ]
  },
  {
   "cell_type": "code",
   "execution_count": 280,
   "id": "-SxPjs28K7Pg",
   "metadata": {
    "id": "-SxPjs28K7Pg"
   },
   "outputs": [],
   "source": [
    "\n",
    "nlp_pipeline_xgb = Pipeline([\n",
    "('bow', CountVectorizer(analyzer=preprocess_data)),\n",
    "('tfidf', TfidfTransformer() ),\n",
    "('classifer', XGBClassifier() )\n",
    "])"
   ]
  },
  {
   "cell_type": "code",
   "execution_count": 281,
   "id": "a-D-7DU2LXn-",
   "metadata": {
    "colab": {
     "base_uri": "https://localhost:8080/",
     "height": 159
    },
    "id": "a-D-7DU2LXn-",
    "outputId": "f950661a-5d2a-4bc4-fecc-93963ee603f6"
   },
   "outputs": [
    {
     "data": {
      "text/html": [
       "<style>#sk-container-id-5 {color: black;background-color: white;}#sk-container-id-5 pre{padding: 0;}#sk-container-id-5 div.sk-toggleable {background-color: white;}#sk-container-id-5 label.sk-toggleable__label {cursor: pointer;display: block;width: 100%;margin-bottom: 0;padding: 0.3em;box-sizing: border-box;text-align: center;}#sk-container-id-5 label.sk-toggleable__label-arrow:before {content: \"▸\";float: left;margin-right: 0.25em;color: #696969;}#sk-container-id-5 label.sk-toggleable__label-arrow:hover:before {color: black;}#sk-container-id-5 div.sk-estimator:hover label.sk-toggleable__label-arrow:before {color: black;}#sk-container-id-5 div.sk-toggleable__content {max-height: 0;max-width: 0;overflow: hidden;text-align: left;background-color: #f0f8ff;}#sk-container-id-5 div.sk-toggleable__content pre {margin: 0.2em;color: black;border-radius: 0.25em;background-color: #f0f8ff;}#sk-container-id-5 input.sk-toggleable__control:checked~div.sk-toggleable__content {max-height: 200px;max-width: 100%;overflow: auto;}#sk-container-id-5 input.sk-toggleable__control:checked~label.sk-toggleable__label-arrow:before {content: \"▾\";}#sk-container-id-5 div.sk-estimator input.sk-toggleable__control:checked~label.sk-toggleable__label {background-color: #d4ebff;}#sk-container-id-5 div.sk-label input.sk-toggleable__control:checked~label.sk-toggleable__label {background-color: #d4ebff;}#sk-container-id-5 input.sk-hidden--visually {border: 0;clip: rect(1px 1px 1px 1px);clip: rect(1px, 1px, 1px, 1px);height: 1px;margin: -1px;overflow: hidden;padding: 0;position: absolute;width: 1px;}#sk-container-id-5 div.sk-estimator {font-family: monospace;background-color: #f0f8ff;border: 1px dotted black;border-radius: 0.25em;box-sizing: border-box;margin-bottom: 0.5em;}#sk-container-id-5 div.sk-estimator:hover {background-color: #d4ebff;}#sk-container-id-5 div.sk-parallel-item::after {content: \"\";width: 100%;border-bottom: 1px solid gray;flex-grow: 1;}#sk-container-id-5 div.sk-label:hover label.sk-toggleable__label {background-color: #d4ebff;}#sk-container-id-5 div.sk-serial::before {content: \"\";position: absolute;border-left: 1px solid gray;box-sizing: border-box;top: 0;bottom: 0;left: 50%;z-index: 0;}#sk-container-id-5 div.sk-serial {display: flex;flex-direction: column;align-items: center;background-color: white;padding-right: 0.2em;padding-left: 0.2em;position: relative;}#sk-container-id-5 div.sk-item {position: relative;z-index: 1;}#sk-container-id-5 div.sk-parallel {display: flex;align-items: stretch;justify-content: center;background-color: white;position: relative;}#sk-container-id-5 div.sk-item::before, #sk-container-id-5 div.sk-parallel-item::before {content: \"\";position: absolute;border-left: 1px solid gray;box-sizing: border-box;top: 0;bottom: 0;left: 50%;z-index: -1;}#sk-container-id-5 div.sk-parallel-item {display: flex;flex-direction: column;z-index: 1;position: relative;background-color: white;}#sk-container-id-5 div.sk-parallel-item:first-child::after {align-self: flex-end;width: 50%;}#sk-container-id-5 div.sk-parallel-item:last-child::after {align-self: flex-start;width: 50%;}#sk-container-id-5 div.sk-parallel-item:only-child::after {width: 0;}#sk-container-id-5 div.sk-dashed-wrapped {border: 1px dashed gray;margin: 0 0.4em 0.5em 0.4em;box-sizing: border-box;padding-bottom: 0.4em;background-color: white;}#sk-container-id-5 div.sk-label label {font-family: monospace;font-weight: bold;display: inline-block;line-height: 1.2em;}#sk-container-id-5 div.sk-label-container {text-align: center;}#sk-container-id-5 div.sk-container {/* jupyter's `normalize.less` sets `[hidden] { display: none; }` but bootstrap.min.css set `[hidden] { display: none !important; }` so we also need the `!important` here to be able to override the default hidden behavior on the sphinx rendered scikit-learn.org. See: https://github.com/scikit-learn/scikit-learn/issues/21755 */display: inline-block !important;position: relative;}#sk-container-id-5 div.sk-text-repr-fallback {display: none;}</style><div id=\"sk-container-id-5\" class=\"sk-top-container\"><div class=\"sk-text-repr-fallback\"><pre>Pipeline(steps=[(&#x27;bow&#x27;,\n",
       "                 CountVectorizer(analyzer=&lt;function preprocess_data at 0x000001CE26F0DA20&gt;)),\n",
       "                (&#x27;tfidf&#x27;, TfidfTransformer()),\n",
       "                (&#x27;classifer&#x27;,\n",
       "                 XGBClassifier(base_score=None, booster=None, callbacks=None,\n",
       "                               colsample_bylevel=None, colsample_bynode=None,\n",
       "                               colsample_bytree=None,\n",
       "                               early_stopping_rounds=None,\n",
       "                               enable_categorical=False, eval_metric=None,\n",
       "                               feature_types=None...\n",
       "                               grow_policy=None, importance_type=None,\n",
       "                               interaction_constraints=None, learning_rate=None,\n",
       "                               max_bin=None, max_cat_threshold=None,\n",
       "                               max_cat_to_onehot=None, max_delta_step=None,\n",
       "                               max_depth=None, max_leaves=None,\n",
       "                               min_child_weight=None, missing=nan,\n",
       "                               monotone_constraints=None, n_estimators=100,\n",
       "                               n_jobs=None, num_parallel_tree=None,\n",
       "                               objective=&#x27;multi:softprob&#x27;, predictor=None, ...))])</pre><b>In a Jupyter environment, please rerun this cell to show the HTML representation or trust the notebook. <br />On GitHub, the HTML representation is unable to render, please try loading this page with nbviewer.org.</b></div><div class=\"sk-container\" hidden><div class=\"sk-item sk-dashed-wrapped\"><div class=\"sk-label-container\"><div class=\"sk-label sk-toggleable\"><input class=\"sk-toggleable__control sk-hidden--visually\" id=\"sk-estimator-id-17\" type=\"checkbox\" ><label for=\"sk-estimator-id-17\" class=\"sk-toggleable__label sk-toggleable__label-arrow\">Pipeline</label><div class=\"sk-toggleable__content\"><pre>Pipeline(steps=[(&#x27;bow&#x27;,\n",
       "                 CountVectorizer(analyzer=&lt;function preprocess_data at 0x000001CE26F0DA20&gt;)),\n",
       "                (&#x27;tfidf&#x27;, TfidfTransformer()),\n",
       "                (&#x27;classifer&#x27;,\n",
       "                 XGBClassifier(base_score=None, booster=None, callbacks=None,\n",
       "                               colsample_bylevel=None, colsample_bynode=None,\n",
       "                               colsample_bytree=None,\n",
       "                               early_stopping_rounds=None,\n",
       "                               enable_categorical=False, eval_metric=None,\n",
       "                               feature_types=None...\n",
       "                               grow_policy=None, importance_type=None,\n",
       "                               interaction_constraints=None, learning_rate=None,\n",
       "                               max_bin=None, max_cat_threshold=None,\n",
       "                               max_cat_to_onehot=None, max_delta_step=None,\n",
       "                               max_depth=None, max_leaves=None,\n",
       "                               min_child_weight=None, missing=nan,\n",
       "                               monotone_constraints=None, n_estimators=100,\n",
       "                               n_jobs=None, num_parallel_tree=None,\n",
       "                               objective=&#x27;multi:softprob&#x27;, predictor=None, ...))])</pre></div></div></div><div class=\"sk-serial\"><div class=\"sk-item\"><div class=\"sk-estimator sk-toggleable\"><input class=\"sk-toggleable__control sk-hidden--visually\" id=\"sk-estimator-id-18\" type=\"checkbox\" ><label for=\"sk-estimator-id-18\" class=\"sk-toggleable__label sk-toggleable__label-arrow\">CountVectorizer</label><div class=\"sk-toggleable__content\"><pre>CountVectorizer(analyzer=&lt;function preprocess_data at 0x000001CE26F0DA20&gt;)</pre></div></div></div><div class=\"sk-item\"><div class=\"sk-estimator sk-toggleable\"><input class=\"sk-toggleable__control sk-hidden--visually\" id=\"sk-estimator-id-19\" type=\"checkbox\" ><label for=\"sk-estimator-id-19\" class=\"sk-toggleable__label sk-toggleable__label-arrow\">TfidfTransformer</label><div class=\"sk-toggleable__content\"><pre>TfidfTransformer()</pre></div></div></div><div class=\"sk-item\"><div class=\"sk-estimator sk-toggleable\"><input class=\"sk-toggleable__control sk-hidden--visually\" id=\"sk-estimator-id-20\" type=\"checkbox\" ><label for=\"sk-estimator-id-20\" class=\"sk-toggleable__label sk-toggleable__label-arrow\">XGBClassifier</label><div class=\"sk-toggleable__content\"><pre>XGBClassifier(base_score=None, booster=None, callbacks=None,\n",
       "              colsample_bylevel=None, colsample_bynode=None,\n",
       "              colsample_bytree=None, early_stopping_rounds=None,\n",
       "              enable_categorical=False, eval_metric=None, feature_types=None,\n",
       "              gamma=None, gpu_id=None, grow_policy=None, importance_type=None,\n",
       "              interaction_constraints=None, learning_rate=None, max_bin=None,\n",
       "              max_cat_threshold=None, max_cat_to_onehot=None,\n",
       "              max_delta_step=None, max_depth=None, max_leaves=None,\n",
       "              min_child_weight=None, missing=nan, monotone_constraints=None,\n",
       "              n_estimators=100, n_jobs=None, num_parallel_tree=None,\n",
       "              objective=&#x27;multi:softprob&#x27;, predictor=None, ...)</pre></div></div></div></div></div></div></div>"
      ],
      "text/plain": [
       "Pipeline(steps=[('bow',\n",
       "                 CountVectorizer(analyzer=<function preprocess_data at 0x000001CE26F0DA20>)),\n",
       "                ('tfidf', TfidfTransformer()),\n",
       "                ('classifer',\n",
       "                 XGBClassifier(base_score=None, booster=None, callbacks=None,\n",
       "                               colsample_bylevel=None, colsample_bynode=None,\n",
       "                               colsample_bytree=None,\n",
       "                               early_stopping_rounds=None,\n",
       "                               enable_categorical=False, eval_metric=None,\n",
       "                               feature_types=None...\n",
       "                               grow_policy=None, importance_type=None,\n",
       "                               interaction_constraints=None, learning_rate=None,\n",
       "                               max_bin=None, max_cat_threshold=None,\n",
       "                               max_cat_to_onehot=None, max_delta_step=None,\n",
       "                               max_depth=None, max_leaves=None,\n",
       "                               min_child_weight=None, missing=nan,\n",
       "                               monotone_constraints=None, n_estimators=100,\n",
       "                               n_jobs=None, num_parallel_tree=None,\n",
       "                               objective='multi:softprob', predictor=None, ...))])"
      ]
     },
     "execution_count": 281,
     "metadata": {},
     "output_type": "execute_result"
    }
   ],
   "source": [
    "nlp_pipeline_xgb.fit(X_train, y_train)"
   ]
  },
  {
   "cell_type": "code",
   "execution_count": 247,
   "id": "iidFx56sLJNP",
   "metadata": {
    "id": "iidFx56sLJNP"
   },
   "outputs": [],
   "source": [
    "y_predict_xgb = nlp_pipeline_xgb.predict(X_test)"
   ]
  },
  {
   "cell_type": "code",
   "execution_count": 248,
   "id": "mXUoNzb8LEZ6",
   "metadata": {
    "colab": {
     "base_uri": "https://localhost:8080/"
    },
    "id": "mXUoNzb8LEZ6",
    "outputId": "d1181609-f63b-45dd-9a68-41fd1f289bd6"
   },
   "outputs": [
    {
     "data": {
      "text/plain": [
       "0.5860621326616289"
      ]
     },
     "execution_count": 248,
     "metadata": {},
     "output_type": "execute_result"
    }
   ],
   "source": [
    "accuracy_score(y_predict_xgb, y_test)"
   ]
  },
  {
   "cell_type": "markdown",
   "id": "qxPglDOrNAGF",
   "metadata": {
    "id": "qxPglDOrNAGF"
   },
   "source": [
    "# Random Forest"
   ]
  },
  {
   "cell_type": "code",
   "execution_count": 249,
   "id": "8eaa6f30",
   "metadata": {
    "id": "8eaa6f30"
   },
   "outputs": [],
   "source": [
    "from sklearn.ensemble import RandomForestClassifier\n",
    "\n",
    "nlp_pipeline_rnf = Pipeline([\n",
    "('bow', CountVectorizer(analyzer=preprocess_data)),\n",
    "('tfidf', TfidfTransformer() ),\n",
    "('classifer', RandomForestClassifier() )\n",
    "\n",
    "\n",
    "])"
   ]
  },
  {
   "cell_type": "code",
   "execution_count": 250,
   "id": "544bdcf3",
   "metadata": {
    "colab": {
     "base_uri": "https://localhost:8080/",
     "height": 159
    },
    "id": "544bdcf3",
    "outputId": "6d565625-9c3f-48b9-85c7-b293bfb8970b"
   },
   "outputs": [
    {
     "data": {
      "text/html": [
       "<style>#sk-container-id-4 {color: black;background-color: white;}#sk-container-id-4 pre{padding: 0;}#sk-container-id-4 div.sk-toggleable {background-color: white;}#sk-container-id-4 label.sk-toggleable__label {cursor: pointer;display: block;width: 100%;margin-bottom: 0;padding: 0.3em;box-sizing: border-box;text-align: center;}#sk-container-id-4 label.sk-toggleable__label-arrow:before {content: \"▸\";float: left;margin-right: 0.25em;color: #696969;}#sk-container-id-4 label.sk-toggleable__label-arrow:hover:before {color: black;}#sk-container-id-4 div.sk-estimator:hover label.sk-toggleable__label-arrow:before {color: black;}#sk-container-id-4 div.sk-toggleable__content {max-height: 0;max-width: 0;overflow: hidden;text-align: left;background-color: #f0f8ff;}#sk-container-id-4 div.sk-toggleable__content pre {margin: 0.2em;color: black;border-radius: 0.25em;background-color: #f0f8ff;}#sk-container-id-4 input.sk-toggleable__control:checked~div.sk-toggleable__content {max-height: 200px;max-width: 100%;overflow: auto;}#sk-container-id-4 input.sk-toggleable__control:checked~label.sk-toggleable__label-arrow:before {content: \"▾\";}#sk-container-id-4 div.sk-estimator input.sk-toggleable__control:checked~label.sk-toggleable__label {background-color: #d4ebff;}#sk-container-id-4 div.sk-label input.sk-toggleable__control:checked~label.sk-toggleable__label {background-color: #d4ebff;}#sk-container-id-4 input.sk-hidden--visually {border: 0;clip: rect(1px 1px 1px 1px);clip: rect(1px, 1px, 1px, 1px);height: 1px;margin: -1px;overflow: hidden;padding: 0;position: absolute;width: 1px;}#sk-container-id-4 div.sk-estimator {font-family: monospace;background-color: #f0f8ff;border: 1px dotted black;border-radius: 0.25em;box-sizing: border-box;margin-bottom: 0.5em;}#sk-container-id-4 div.sk-estimator:hover {background-color: #d4ebff;}#sk-container-id-4 div.sk-parallel-item::after {content: \"\";width: 100%;border-bottom: 1px solid gray;flex-grow: 1;}#sk-container-id-4 div.sk-label:hover label.sk-toggleable__label {background-color: #d4ebff;}#sk-container-id-4 div.sk-serial::before {content: \"\";position: absolute;border-left: 1px solid gray;box-sizing: border-box;top: 0;bottom: 0;left: 50%;z-index: 0;}#sk-container-id-4 div.sk-serial {display: flex;flex-direction: column;align-items: center;background-color: white;padding-right: 0.2em;padding-left: 0.2em;position: relative;}#sk-container-id-4 div.sk-item {position: relative;z-index: 1;}#sk-container-id-4 div.sk-parallel {display: flex;align-items: stretch;justify-content: center;background-color: white;position: relative;}#sk-container-id-4 div.sk-item::before, #sk-container-id-4 div.sk-parallel-item::before {content: \"\";position: absolute;border-left: 1px solid gray;box-sizing: border-box;top: 0;bottom: 0;left: 50%;z-index: -1;}#sk-container-id-4 div.sk-parallel-item {display: flex;flex-direction: column;z-index: 1;position: relative;background-color: white;}#sk-container-id-4 div.sk-parallel-item:first-child::after {align-self: flex-end;width: 50%;}#sk-container-id-4 div.sk-parallel-item:last-child::after {align-self: flex-start;width: 50%;}#sk-container-id-4 div.sk-parallel-item:only-child::after {width: 0;}#sk-container-id-4 div.sk-dashed-wrapped {border: 1px dashed gray;margin: 0 0.4em 0.5em 0.4em;box-sizing: border-box;padding-bottom: 0.4em;background-color: white;}#sk-container-id-4 div.sk-label label {font-family: monospace;font-weight: bold;display: inline-block;line-height: 1.2em;}#sk-container-id-4 div.sk-label-container {text-align: center;}#sk-container-id-4 div.sk-container {/* jupyter's `normalize.less` sets `[hidden] { display: none; }` but bootstrap.min.css set `[hidden] { display: none !important; }` so we also need the `!important` here to be able to override the default hidden behavior on the sphinx rendered scikit-learn.org. See: https://github.com/scikit-learn/scikit-learn/issues/21755 */display: inline-block !important;position: relative;}#sk-container-id-4 div.sk-text-repr-fallback {display: none;}</style><div id=\"sk-container-id-4\" class=\"sk-top-container\"><div class=\"sk-text-repr-fallback\"><pre>Pipeline(steps=[(&#x27;bow&#x27;,\n",
       "                 CountVectorizer(analyzer=&lt;function preprocess_data at 0x000001CE26F0DA20&gt;)),\n",
       "                (&#x27;tfidf&#x27;, TfidfTransformer()),\n",
       "                (&#x27;classifer&#x27;, RandomForestClassifier())])</pre><b>In a Jupyter environment, please rerun this cell to show the HTML representation or trust the notebook. <br />On GitHub, the HTML representation is unable to render, please try loading this page with nbviewer.org.</b></div><div class=\"sk-container\" hidden><div class=\"sk-item sk-dashed-wrapped\"><div class=\"sk-label-container\"><div class=\"sk-label sk-toggleable\"><input class=\"sk-toggleable__control sk-hidden--visually\" id=\"sk-estimator-id-13\" type=\"checkbox\" ><label for=\"sk-estimator-id-13\" class=\"sk-toggleable__label sk-toggleable__label-arrow\">Pipeline</label><div class=\"sk-toggleable__content\"><pre>Pipeline(steps=[(&#x27;bow&#x27;,\n",
       "                 CountVectorizer(analyzer=&lt;function preprocess_data at 0x000001CE26F0DA20&gt;)),\n",
       "                (&#x27;tfidf&#x27;, TfidfTransformer()),\n",
       "                (&#x27;classifer&#x27;, RandomForestClassifier())])</pre></div></div></div><div class=\"sk-serial\"><div class=\"sk-item\"><div class=\"sk-estimator sk-toggleable\"><input class=\"sk-toggleable__control sk-hidden--visually\" id=\"sk-estimator-id-14\" type=\"checkbox\" ><label for=\"sk-estimator-id-14\" class=\"sk-toggleable__label sk-toggleable__label-arrow\">CountVectorizer</label><div class=\"sk-toggleable__content\"><pre>CountVectorizer(analyzer=&lt;function preprocess_data at 0x000001CE26F0DA20&gt;)</pre></div></div></div><div class=\"sk-item\"><div class=\"sk-estimator sk-toggleable\"><input class=\"sk-toggleable__control sk-hidden--visually\" id=\"sk-estimator-id-15\" type=\"checkbox\" ><label for=\"sk-estimator-id-15\" class=\"sk-toggleable__label sk-toggleable__label-arrow\">TfidfTransformer</label><div class=\"sk-toggleable__content\"><pre>TfidfTransformer()</pre></div></div></div><div class=\"sk-item\"><div class=\"sk-estimator sk-toggleable\"><input class=\"sk-toggleable__control sk-hidden--visually\" id=\"sk-estimator-id-16\" type=\"checkbox\" ><label for=\"sk-estimator-id-16\" class=\"sk-toggleable__label sk-toggleable__label-arrow\">RandomForestClassifier</label><div class=\"sk-toggleable__content\"><pre>RandomForestClassifier()</pre></div></div></div></div></div></div></div>"
      ],
      "text/plain": [
       "Pipeline(steps=[('bow',\n",
       "                 CountVectorizer(analyzer=<function preprocess_data at 0x000001CE26F0DA20>)),\n",
       "                ('tfidf', TfidfTransformer()),\n",
       "                ('classifer', RandomForestClassifier())])"
      ]
     },
     "execution_count": 250,
     "metadata": {},
     "output_type": "execute_result"
    }
   ],
   "source": [
    "nlp_pipeline_rnf.fit(X_train, y_train)"
   ]
  },
  {
   "cell_type": "code",
   "execution_count": 251,
   "id": "e5c41340",
   "metadata": {
    "id": "e5c41340"
   },
   "outputs": [],
   "source": [
    "y_predict_rnf= nlp_pipeline_rnf.predict(X_test)"
   ]
  },
  {
   "cell_type": "code",
   "execution_count": 252,
   "id": "0bebcef8",
   "metadata": {
    "colab": {
     "base_uri": "https://localhost:8080/"
    },
    "id": "0bebcef8",
    "outputId": "1d02604a-43f3-480f-8bdb-154ef849f04f"
   },
   "outputs": [
    {
     "data": {
      "text/plain": [
       "0.6020151133501259"
      ]
     },
     "execution_count": 252,
     "metadata": {},
     "output_type": "execute_result"
    }
   ],
   "source": [
    "accuracy_score(y_test, y_predict_rnf)"
   ]
  },
  {
   "cell_type": "code",
   "execution_count": 253,
   "id": "eit0LSC2L_UX",
   "metadata": {
    "colab": {
     "base_uri": "https://localhost:8080/",
     "height": 188
    },
    "id": "eit0LSC2L_UX",
    "outputId": "712e38fd-70c6-464c-cd41-a5226c26dafa"
   },
   "outputs": [
    {
     "name": "stdout",
     "output_type": "stream",
     "text": [
      "              precision    recall  f1-score   support\n",
      "\n",
      "           0       0.60      0.76      0.67       398\n",
      "           1       0.59      0.75      0.66       430\n",
      "           2       0.61      0.34      0.44       143\n",
      "           3       0.76      0.19      0.30       100\n",
      "           4       0.50      0.05      0.09        41\n",
      "           5       0.64      0.27      0.38        79\n",
      "\n",
      "    accuracy                           0.60      1191\n",
      "   macro avg       0.62      0.39      0.42      1191\n",
      "weighted avg       0.61      0.60      0.57      1191\n",
      "\n"
     ]
    }
   ],
   "source": [
    "from sklearn.metrics import classification_report\n",
    "print(classification_report(y_test, y_predict_rnf))"
   ]
  },
  {
   "cell_type": "code",
   "execution_count": null,
   "id": "f0b6073e",
   "metadata": {
    "id": "f0b6073e"
   },
   "outputs": [],
   "source": []
  }
 ],
 "metadata": {
  "colab": {
   "provenance": []
  },
  "kernelspec": {
   "display_name": "venv",
   "language": "python",
   "name": "venv"
  },
  "language_info": {
   "codemirror_mode": {
    "name": "ipython",
    "version": 3
   },
   "file_extension": ".py",
   "mimetype": "text/x-python",
   "name": "python",
   "nbconvert_exporter": "python",
   "pygments_lexer": "ipython3",
   "version": "3.10.12"
  }
 },
 "nbformat": 4,
 "nbformat_minor": 5
}
