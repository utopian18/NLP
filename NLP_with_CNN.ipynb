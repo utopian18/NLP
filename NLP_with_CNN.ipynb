{
 "cells": [
  {
   "cell_type": "code",
   "execution_count": 1,
   "id": "-8aTPSKBleYX",
   "metadata": {
    "id": "-8aTPSKBleYX"
   },
   "outputs": [],
   "source": [
    "import re\n",
    "import nltk\n",
    "import pandas as pd\n",
    "from nltk.corpus import stopwords\n",
    "from nltk.stem import PorterStemmer\n",
    "from sklearn.model_selection import StratifiedKFold\n",
    "from sklearn.metrics import accuracy_score, classification_report\n",
    "from sklearn.model_selection import train_test_split\n",
    "from tensorflow.keras.preprocessing.text import Tokenizer\n",
    "from tensorflow.keras.preprocessing.sequence import pad_sequences\n",
    "from tensorflow.keras.models import Sequential\n",
    "from tensorflow.keras.layers import Embedding, Conv1D, GlobalMaxPooling1D, Dense, Dropout\n",
    "from sklearn.preprocessing import LabelEncoder\n",
    "from sklearn.metrics import classification_report"
   ]
  },
  {
   "cell_type": "code",
   "execution_count": 2,
   "id": "CiN3-w4Ulnww",
   "metadata": {
    "id": "CiN3-w4Ulnww"
   },
   "outputs": [],
   "source": [
    "def preprocessed_text(text):\n",
    "    # Convert text to lowercase\n",
    "    text = text.lower()\n",
    "    \n",
    "    # Remove special characters and digits\n",
    "    text = re.sub(r\"[^a-zA-Z]\", \" \", text)\n",
    "    \n",
    "    # Tokenization\n",
    "    tokens = nltk.word_tokenize(text)\n",
    "    \n",
    "    # Remove stopwords\n",
    "    stop_words = set(stopwords.words(\"english\"))\n",
    "    tokens = [token for token in tokens if token not in stop_words]\n",
    "    \n",
    "    # Stemming\n",
    "    stemmer = PorterStemmer()\n",
    "    tokens = [stemmer.stem(token) for token in tokens]\n",
    "    \n",
    "    # Join tokens back into a single string\n",
    "    preprocessed_text = \" \".join(tokens)\n",
    "    \n",
    "    return preprocessed_text"
   ]
  },
  {
   "cell_type": "code",
   "execution_count": 3,
   "id": "O_PDAMuDmgR_",
   "metadata": {
    "id": "O_PDAMuDmgR_"
   },
   "outputs": [],
   "source": [
    "# Read data \n",
    "data = pd.read_csv(\"Survey Data_shipping.csv\", encoding='latin-1')"
   ]
  },
  {
   "cell_type": "code",
   "execution_count": 4,
   "id": "9vNOQo3OmzHM",
   "metadata": {
    "colab": {
     "base_uri": "https://localhost:8080/"
    },
    "id": "9vNOQo3OmzHM",
    "outputId": "ef8d74ed-ceeb-4d4c-8229-ebb8c8ce7d85"
   },
   "outputs": [
    {
     "data": {
      "text/plain": [
       "Index(['ï»¿OCF Journey',\n",
       "       'Response Ticker - Why you gave this number in the survey',\n",
       "       'Why - issue Category', 'Why - Keywords/Words related to issue',\n",
       "       'Why - # of Words', 'Response Ticker - What we could do better?',\n",
       "       'What - Issue', 'What - Words related to issue', 'What - # of Words',\n",
       "       'Application area', 'Comment_Metadata1', 'Comment_Metadata2',\n",
       "       'Q1 - How likely are you to recommend UPS to a friend or colleague?',\n",
       "       'Survey Date (+00:00 GMT)', 'Unnamed: 14', 'Unnamed: 15'],\n",
       "      dtype='object')"
      ]
     },
     "execution_count": 4,
     "metadata": {},
     "output_type": "execute_result"
    }
   ],
   "source": [
    "data.columns"
   ]
  },
  {
   "cell_type": "code",
   "execution_count": 5,
   "id": "CA1b2xlsnlAn",
   "metadata": {
    "colab": {
     "base_uri": "https://localhost:8080/"
    },
    "id": "CA1b2xlsnlAn",
    "outputId": "2f49b0fd-2d16-46dc-d234-9675d0c0d21c"
   },
   "outputs": [
    {
     "name": "stderr",
     "output_type": "stream",
     "text": [
      "[nltk_data] Downloading package punkt to\n",
      "[nltk_data]     C:\\Users\\User\\AppData\\Roaming\\nltk_data...\n",
      "[nltk_data]   Unzipping tokenizers\\punkt.zip.\n",
      "[nltk_data] Downloading package stopwords to\n",
      "[nltk_data]     C:\\Users\\User\\AppData\\Roaming\\nltk_data...\n",
      "[nltk_data]   Package stopwords is already up-to-date!\n"
     ]
    },
    {
     "data": {
      "text/plain": [
       "True"
      ]
     },
     "execution_count": 5,
     "metadata": {},
     "output_type": "execute_result"
    }
   ],
   "source": [
    "import nltk\n",
    "nltk.download('punkt')\n",
    "nltk.download('stopwords')"
   ]
  },
  {
   "cell_type": "code",
   "execution_count": 6,
   "id": "mV5zT6qZl6_M",
   "metadata": {
    "id": "mV5zT6qZl6_M"
   },
   "outputs": [],
   "source": [
    "# Preprocess the text column\n",
    "data[\"preprocessed_text\"] = data[\"Response Ticker - Why you gave this number in the survey\"].apply(preprocessed_text)"
   ]
  },
  {
   "cell_type": "code",
   "execution_count": 7,
   "id": "Hx5tO6o8t5CE",
   "metadata": {
    "colab": {
     "base_uri": "https://localhost:8080/"
    },
    "id": "Hx5tO6o8t5CE",
    "outputId": "300c0146-9047-4a1a-9e22-eb22e35dd5e9"
   },
   "outputs": [
    {
     "data": {
      "text/plain": [
       "Operational                   2147\n",
       "Layout/Navigation/Usablity    1973\n",
       "Others                         595\n",
       "Pricing/Cost                   525\n",
       "Support/Sales                  430\n",
       "Technical/Performance          224\n",
       "others                          52\n",
       "Operational                      5\n",
       "Name: Why - issue Category, dtype: int64"
      ]
     },
     "execution_count": 7,
     "metadata": {},
     "output_type": "execute_result"
    }
   ],
   "source": [
    "data['Why - issue Category'].value_counts()"
   ]
  },
  {
   "cell_type": "code",
   "execution_count": 8,
   "id": "B7zjOESNuGJS",
   "metadata": {
    "id": "B7zjOESNuGJS"
   },
   "outputs": [],
   "source": [
    "data['Why - issue Category'] = data['Why - issue Category'].replace({'Operational ':'Operational','others': 'Others'})"
   ]
  },
  {
   "cell_type": "code",
   "execution_count": 9,
   "id": "NSSuLyhkuQ1J",
   "metadata": {
    "colab": {
     "base_uri": "https://localhost:8080/"
    },
    "id": "NSSuLyhkuQ1J",
    "outputId": "3749dad0-9823-454b-937d-206400c5d051"
   },
   "outputs": [
    {
     "data": {
      "text/plain": [
       "Operational                   2152\n",
       "Layout/Navigation/Usablity    1973\n",
       "Others                         647\n",
       "Pricing/Cost                   525\n",
       "Support/Sales                  430\n",
       "Technical/Performance          224\n",
       "Name: Why - issue Category, dtype: int64"
      ]
     },
     "execution_count": 9,
     "metadata": {},
     "output_type": "execute_result"
    }
   ],
   "source": [
    "data['Why - issue Category'].value_counts()"
   ]
  },
  {
   "cell_type": "code",
   "execution_count": 49,
   "id": "onMnfmK5rSG6",
   "metadata": {
    "id": "onMnfmK5rSG6"
   },
   "outputs": [],
   "source": [
    "# Split the data into features (X) and labels (y)\n",
    "X = data[\"preprocessed_text\"]\n",
    "y = data[\"Why - issue Category\"]  "
   ]
  },
  {
   "cell_type": "code",
   "execution_count": 44,
   "id": "c6de12b9",
   "metadata": {},
   "outputs": [],
   "source": [
    "import numpy as np"
   ]
  },
  {
   "cell_type": "code",
   "execution_count": 48,
   "id": "f7363aa4",
   "metadata": {},
   "outputs": [
    {
     "data": {
      "text/plain": [
       "6"
      ]
     },
     "execution_count": 48,
     "metadata": {},
     "output_type": "execute_result"
    }
   ],
   "source": [
    "len(np.unique(y))"
   ]
  },
  {
   "cell_type": "code",
   "execution_count": 50,
   "id": "3eb040b6",
   "metadata": {
    "colab": {
     "base_uri": "https://localhost:8080/"
    },
    "id": "3eb040b6",
    "outputId": "5d00fa4f-ac6e-4e04-eb52-5bce2fabcbb9"
   },
   "outputs": [
    {
     "name": "stdout",
     "output_type": "stream",
     "text": [
      "Epoch 1/10\n",
      "298/298 [==============================] - 7s 20ms/step - loss: 1.2152 - accuracy: 0.5557 - val_loss: 0.8478 - val_accuracy: 0.6751\n",
      "Epoch 2/10\n",
      "298/298 [==============================] - 5s 16ms/step - loss: 0.7476 - accuracy: 0.7433 - val_loss: 0.6766 - val_accuracy: 0.7464\n",
      "Epoch 3/10\n",
      "298/298 [==============================] - 5s 16ms/step - loss: 0.5344 - accuracy: 0.8107 - val_loss: 0.6743 - val_accuracy: 0.7523\n",
      "Epoch 4/10\n",
      "298/298 [==============================] - 5s 15ms/step - loss: 0.4177 - accuracy: 0.8584 - val_loss: 0.6944 - val_accuracy: 0.7490\n",
      "Epoch 5/10\n",
      "298/298 [==============================] - 5s 15ms/step - loss: 0.3231 - accuracy: 0.8880 - val_loss: 0.7842 - val_accuracy: 0.7557\n",
      "Epoch 6/10\n",
      "298/298 [==============================] - 5s 15ms/step - loss: 0.2659 - accuracy: 0.9099 - val_loss: 0.7864 - val_accuracy: 0.7498\n",
      "Epoch 7/10\n",
      "298/298 [==============================] - 5s 15ms/step - loss: 0.2223 - accuracy: 0.9261 - val_loss: 0.9190 - val_accuracy: 0.7431\n",
      "Epoch 8/10\n",
      "298/298 [==============================] - 5s 15ms/step - loss: 0.1864 - accuracy: 0.9311 - val_loss: 0.9564 - val_accuracy: 0.7473\n",
      "Epoch 9/10\n",
      "298/298 [==============================] - 5s 15ms/step - loss: 0.1745 - accuracy: 0.9334 - val_loss: 1.0549 - val_accuracy: 0.7372\n",
      "Epoch 10/10\n",
      "298/298 [==============================] - 4s 15ms/step - loss: 0.1544 - accuracy: 0.9445 - val_loss: 1.1144 - val_accuracy: 0.7422\n",
      "38/38 [==============================] - 0s 4ms/step\n",
      "Accuracy: 0.7422334172963896\n",
      "Classification Report:\n",
      "                            precision    recall  f1-score   support\n",
      "\n",
      "Layout/Navigation/Usablity       0.77      0.86      0.81       395\n",
      "               Operational       0.79      0.78      0.78       431\n",
      "                    Others       0.55      0.36      0.43       129\n",
      "              Pricing/Cost       0.77      0.82      0.79       105\n",
      "             Support/Sales       0.67      0.65      0.66        86\n",
      "     Technical/Performance       0.50      0.47      0.48        45\n",
      "\n",
      "                  accuracy                           0.74      1191\n",
      "                 macro avg       0.67      0.66      0.66      1191\n",
      "              weighted avg       0.73      0.74      0.73      1191\n",
      "\n"
     ]
    }
   ],
   "source": [
    "\n",
    "# Perform label encoding on the class labels\n",
    "label_encoder = LabelEncoder()\n",
    "y = label_encoder.fit_transform(y)\n",
    "\n",
    "# Split the data into training and test sets\n",
    "X_train, X_test, y_train, y_test = train_test_split(X, y, test_size=0.2, stratify=y, random_state=42)\n",
    "\n",
    "# Vectorize the text using Tokenizer\n",
    "tokenizer = Tokenizer()\n",
    "tokenizer.fit_on_texts(X_train)\n",
    "X_train = tokenizer.texts_to_sequences(X_train)\n",
    "X_test = tokenizer.texts_to_sequences(X_test)\n",
    "\n",
    "# Pad sequences to have the same length\n",
    "max_length = max([len(x) for x in X_train])\n",
    "X_train = pad_sequences(X_train, maxlen=max_length)\n",
    "X_test = pad_sequences(X_test, maxlen=max_length)\n",
    "\n",
    "# Define the CNN model\n",
    "model = Sequential()\n",
    "model.add(Embedding(input_dim=len(tokenizer.word_index) + 1, output_dim=100, input_length=max_length))\n",
    "model.add(Conv1D(128, 5, activation='relu'))\n",
    "model.add(GlobalMaxPooling1D())\n",
    "model.add(Dense(64, activation='relu'))\n",
    "model.add(Dropout(0.5))\n",
    "model.add(Dense(len(np.unique(y)), activation='softmax'))\n",
    "\n",
    "# Compile the model\n",
    "model.compile(loss='sparse_categorical_crossentropy', optimizer='adam', metrics=['accuracy'])\n",
    "\n",
    "# Train the model\n",
    "model.fit(X_train, y_train, validation_data=(X_test, y_test), epochs=10, batch_size=16)\n",
    "\n",
    "\n",
    "# Predict classes using the trained model\n",
    "y_pred_probs = model.predict(X_test)\n",
    "y_pred = y_pred_probs.argmax(axis=1)\n",
    "\n",
    "# Calculate the accuracy of predicted classes\n",
    "accuracy = accuracy_score(y_test, y_pred)\n",
    "print(\"Accuracy:\", accuracy)\n",
    "\n",
    "# Calculate the prediction accuracy for each class\n",
    "report = classification_report(y_test, y_pred, target_names=label_encoder.classes_)\n",
    "print(\"Classification Report:\")\n",
    "print(report)\n",
    "\n"
   ]
  },
  {
   "cell_type": "markdown",
   "id": "aifMDESCykyy",
   "metadata": {
    "id": "aifMDESCykyy"
   },
   "source": [
    "# Testing model accuracy"
   ]
  },
  {
   "cell_type": "code",
   "execution_count": 105,
   "id": "gvtfuAe2za-j",
   "metadata": {
    "id": "gvtfuAe2za-j"
   },
   "outputs": [],
   "source": [
    "test_data = pd.read_csv('CXShieldDigitalSurveys.csv')"
   ]
  },
  {
   "cell_type": "code",
   "execution_count": 106,
   "id": "5263aa3a",
   "metadata": {},
   "outputs": [
    {
     "data": {
      "text/html": [
       "<div>\n",
       "<style scoped>\n",
       "    .dataframe tbody tr th:only-of-type {\n",
       "        vertical-align: middle;\n",
       "    }\n",
       "\n",
       "    .dataframe tbody tr th {\n",
       "        vertical-align: top;\n",
       "    }\n",
       "\n",
       "    .dataframe thead th {\n",
       "        text-align: right;\n",
       "    }\n",
       "</style>\n",
       "<table border=\"1\" class=\"dataframe\">\n",
       "  <thead>\n",
       "    <tr style=\"text-align: right;\">\n",
       "      <th></th>\n",
       "      <th>Start Date (+00:00 GMT)</th>\n",
       "      <th>Survey Date (+00:00 GMT)</th>\n",
       "      <th>Response Type</th>\n",
       "      <th>IP Address</th>\n",
       "      <th>Progress</th>\n",
       "      <th>Duration (in seconds)</th>\n",
       "      <th>Finished</th>\n",
       "      <th>Recorded Date (+00:00 GMT)</th>\n",
       "      <th>Recipient Last Name</th>\n",
       "      <th>Recipient First Name</th>\n",
       "      <th>...</th>\n",
       "      <th>External Reference</th>\n",
       "      <th>Location Latitude</th>\n",
       "      <th>Location Longitude</th>\n",
       "      <th>Distribution Channel</th>\n",
       "      <th>User Language</th>\n",
       "      <th>NPS Group</th>\n",
       "      <th>Q1 - How likely are you to recommend UPS to a friend or colleague?</th>\n",
       "      <th>Q2 - To what extent did your most recent [journey experience] experience influen...</th>\n",
       "      <th>Q3 - Why?</th>\n",
       "      <th>Why - Issue</th>\n",
       "    </tr>\n",
       "  </thead>\n",
       "  <tbody>\n",
       "    <tr>\n",
       "      <th>0</th>\n",
       "      <td>4/19/2023 13:17</td>\n",
       "      <td>4/19/2023 13:18</td>\n",
       "      <td>IP Address</td>\n",
       "      <td>208.127.65.83</td>\n",
       "      <td>100</td>\n",
       "      <td>60</td>\n",
       "      <td>True</td>\n",
       "      <td>4/19/2023 13:18</td>\n",
       "      <td>NaN</td>\n",
       "      <td>NaN</td>\n",
       "      <td>...</td>\n",
       "      <td>NaN</td>\n",
       "      <td>38.791100</td>\n",
       "      <td>-77.526400</td>\n",
       "      <td>email</td>\n",
       "      <td>EN</td>\n",
       "      <td>Detractor</td>\n",
       "      <td>6</td>\n",
       "      <td>Increased a little</td>\n",
       "      <td>The criteria needed.</td>\n",
       "      <td>NaN</td>\n",
       "    </tr>\n",
       "    <tr>\n",
       "      <th>1</th>\n",
       "      <td>4/19/2023 12:39</td>\n",
       "      <td>4/19/2023 12:40</td>\n",
       "      <td>IP Address</td>\n",
       "      <td>50.195.184.141</td>\n",
       "      <td>100</td>\n",
       "      <td>45</td>\n",
       "      <td>True</td>\n",
       "      <td>4/19/2023 12:40</td>\n",
       "      <td>NaN</td>\n",
       "      <td>NaN</td>\n",
       "      <td>...</td>\n",
       "      <td>NaN</td>\n",
       "      <td>40.211600</td>\n",
       "      <td>-85.427300</td>\n",
       "      <td>email</td>\n",
       "      <td>EN</td>\n",
       "      <td>Detractor</td>\n",
       "      <td>0</td>\n",
       "      <td>Decreased a lot</td>\n",
       "      <td>UPS never followed up, never contacted us in a...</td>\n",
       "      <td>NaN</td>\n",
       "    </tr>\n",
       "    <tr>\n",
       "      <th>2</th>\n",
       "      <td>4/19/2023 12:33</td>\n",
       "      <td>4/19/2023 12:34</td>\n",
       "      <td>IP Address</td>\n",
       "      <td>166.70.168.63</td>\n",
       "      <td>100</td>\n",
       "      <td>60</td>\n",
       "      <td>True</td>\n",
       "      <td>4/19/2023 12:34</td>\n",
       "      <td>NaN</td>\n",
       "      <td>NaN</td>\n",
       "      <td>...</td>\n",
       "      <td>NaN</td>\n",
       "      <td>40.007200</td>\n",
       "      <td>-111.603100</td>\n",
       "      <td>email</td>\n",
       "      <td>EN</td>\n",
       "      <td>Detractor</td>\n",
       "      <td>0</td>\n",
       "      <td>Decreased a lot</td>\n",
       "      <td>Horrible experience. Still not resolved at all...</td>\n",
       "      <td>NaN</td>\n",
       "    </tr>\n",
       "    <tr>\n",
       "      <th>3</th>\n",
       "      <td>4/19/2023 12:03</td>\n",
       "      <td>4/19/2023 12:07</td>\n",
       "      <td>IP Address</td>\n",
       "      <td>173.187.41.221</td>\n",
       "      <td>100</td>\n",
       "      <td>234</td>\n",
       "      <td>True</td>\n",
       "      <td>4/19/2023 12:07</td>\n",
       "      <td>NaN</td>\n",
       "      <td>NaN</td>\n",
       "      <td>...</td>\n",
       "      <td>NaN</td>\n",
       "      <td>31.182300</td>\n",
       "      <td>-83.764100</td>\n",
       "      <td>email</td>\n",
       "      <td>EN</td>\n",
       "      <td>Detractor</td>\n",
       "      <td>5</td>\n",
       "      <td>Decreased a lot</td>\n",
       "      <td>Network Server crashed and UPS will not totall...</td>\n",
       "      <td>NaN</td>\n",
       "    </tr>\n",
       "    <tr>\n",
       "      <th>4</th>\n",
       "      <td>2/23/2021 14:20</td>\n",
       "      <td>2/23/2021 14:22</td>\n",
       "      <td>IP Address</td>\n",
       "      <td>71.206.130.189</td>\n",
       "      <td>100</td>\n",
       "      <td>103</td>\n",
       "      <td>True</td>\n",
       "      <td>2/23/2021 14:22</td>\n",
       "      <td>NaN</td>\n",
       "      <td>NaN</td>\n",
       "      <td>...</td>\n",
       "      <td>NaN</td>\n",
       "      <td>37.463806</td>\n",
       "      <td>-77.398003</td>\n",
       "      <td>email</td>\n",
       "      <td>EN</td>\n",
       "      <td>Promoter</td>\n",
       "      <td>10</td>\n",
       "      <td>Increased a lot</td>\n",
       "      <td>Easy process, and the UPS associate was very h...</td>\n",
       "      <td>NaN</td>\n",
       "    </tr>\n",
       "  </tbody>\n",
       "</table>\n",
       "<p>5 rows × 21 columns</p>\n",
       "</div>"
      ],
      "text/plain": [
       "  Start Date (+00:00 GMT) Survey Date (+00:00 GMT) Response Type  \\\n",
       "0         4/19/2023 13:17          4/19/2023 13:18    IP Address   \n",
       "1         4/19/2023 12:39          4/19/2023 12:40    IP Address   \n",
       "2         4/19/2023 12:33          4/19/2023 12:34    IP Address   \n",
       "3         4/19/2023 12:03          4/19/2023 12:07    IP Address   \n",
       "4         2/23/2021 14:20          2/23/2021 14:22    IP Address   \n",
       "\n",
       "       IP Address  Progress  Duration (in seconds)  Finished  \\\n",
       "0   208.127.65.83       100                     60      True   \n",
       "1  50.195.184.141       100                     45      True   \n",
       "2   166.70.168.63       100                     60      True   \n",
       "3  173.187.41.221       100                    234      True   \n",
       "4  71.206.130.189       100                    103      True   \n",
       "\n",
       "  Recorded Date (+00:00 GMT) Recipient Last Name Recipient First Name  ...  \\\n",
       "0            4/19/2023 13:18                 NaN                  NaN  ...   \n",
       "1            4/19/2023 12:40                 NaN                  NaN  ...   \n",
       "2            4/19/2023 12:34                 NaN                  NaN  ...   \n",
       "3            4/19/2023 12:07                 NaN                  NaN  ...   \n",
       "4            2/23/2021 14:22                 NaN                  NaN  ...   \n",
       "\n",
       "  External Reference Location Latitude  Location Longitude  \\\n",
       "0                NaN         38.791100          -77.526400   \n",
       "1                NaN         40.211600          -85.427300   \n",
       "2                NaN         40.007200         -111.603100   \n",
       "3                NaN         31.182300          -83.764100   \n",
       "4                NaN         37.463806          -77.398003   \n",
       "\n",
       "   Distribution Channel User Language  NPS Group  \\\n",
       "0                 email            EN  Detractor   \n",
       "1                 email            EN  Detractor   \n",
       "2                 email            EN  Detractor   \n",
       "3                 email            EN  Detractor   \n",
       "4                 email            EN   Promoter   \n",
       "\n",
       "  Q1 - How likely are you to recommend UPS to a friend or colleague?  \\\n",
       "0                                                  6                   \n",
       "1                                                  0                   \n",
       "2                                                  0                   \n",
       "3                                                  5                   \n",
       "4                                                 10                   \n",
       "\n",
       "   Q2 - To what extent did your most recent [journey experience] experience influen...  \\\n",
       "0                                 Increased a little                                     \n",
       "1                                    Decreased a lot                                     \n",
       "2                                    Decreased a lot                                     \n",
       "3                                    Decreased a lot                                     \n",
       "4                                    Increased a lot                                     \n",
       "\n",
       "                                           Q3 - Why? Why - Issue  \n",
       "0                               The criteria needed.         NaN  \n",
       "1  UPS never followed up, never contacted us in a...         NaN  \n",
       "2  Horrible experience. Still not resolved at all...         NaN  \n",
       "3  Network Server crashed and UPS will not totall...         NaN  \n",
       "4  Easy process, and the UPS associate was very h...         NaN  \n",
       "\n",
       "[5 rows x 21 columns]"
      ]
     },
     "execution_count": 106,
     "metadata": {},
     "output_type": "execute_result"
    }
   ],
   "source": [
    "test_data.head()"
   ]
  },
  {
   "cell_type": "code",
   "execution_count": 107,
   "id": "ObcUWNGozvpG",
   "metadata": {
    "id": "ObcUWNGozvpG"
   },
   "outputs": [],
   "source": [
    "test_series = test_data[['Q3 - Why?']]"
   ]
  },
  {
   "cell_type": "code",
   "execution_count": 108,
   "id": "aff5486c",
   "metadata": {},
   "outputs": [],
   "source": [
    "test_series= test_series.dropna()"
   ]
  },
  {
   "cell_type": "code",
   "execution_count": 109,
   "id": "3qONiq6yz3eL",
   "metadata": {
    "colab": {
     "base_uri": "https://localhost:8080/"
    },
    "id": "3qONiq6yz3eL",
    "outputId": "086a3cd0-e92b-4a84-912e-4938004e7810"
   },
   "outputs": [],
   "source": [
    "test_series['preprocessed_text']= test_series['Q3 - Why?'].apply(preprocessed_text )"
   ]
  },
  {
   "cell_type": "code",
   "execution_count": 97,
   "id": "1fdf4b95",
   "metadata": {},
   "outputs": [
    {
     "data": {
      "text/html": [
       "<div>\n",
       "<style scoped>\n",
       "    .dataframe tbody tr th:only-of-type {\n",
       "        vertical-align: middle;\n",
       "    }\n",
       "\n",
       "    .dataframe tbody tr th {\n",
       "        vertical-align: top;\n",
       "    }\n",
       "\n",
       "    .dataframe thead th {\n",
       "        text-align: right;\n",
       "    }\n",
       "</style>\n",
       "<table border=\"1\" class=\"dataframe\">\n",
       "  <thead>\n",
       "    <tr style=\"text-align: right;\">\n",
       "      <th></th>\n",
       "      <th>Q3 - Why?</th>\n",
       "      <th>preprocessed_text</th>\n",
       "    </tr>\n",
       "  </thead>\n",
       "  <tbody>\n",
       "    <tr>\n",
       "      <th>0</th>\n",
       "      <td>The criteria needed.</td>\n",
       "      <td>criteria need</td>\n",
       "    </tr>\n",
       "    <tr>\n",
       "      <th>1</th>\n",
       "      <td>UPS never followed up, never contacted us in a...</td>\n",
       "      <td>up never follow never contact us way never anyth</td>\n",
       "    </tr>\n",
       "    <tr>\n",
       "      <th>2</th>\n",
       "      <td>Horrible experience. Still not resolved at all...</td>\n",
       "      <td>horribl experi still resolv up lost item still...</td>\n",
       "    </tr>\n",
       "    <tr>\n",
       "      <th>3</th>\n",
       "      <td>Network Server crashed and UPS will not totall...</td>\n",
       "      <td>network server crash up total uninstal let us ...</td>\n",
       "    </tr>\n",
       "    <tr>\n",
       "      <th>4</th>\n",
       "      <td>Easy process, and the UPS associate was very h...</td>\n",
       "      <td>easi process up associ help</td>\n",
       "    </tr>\n",
       "  </tbody>\n",
       "</table>\n",
       "</div>"
      ],
      "text/plain": [
       "                                           Q3 - Why?  \\\n",
       "0                               The criteria needed.   \n",
       "1  UPS never followed up, never contacted us in a...   \n",
       "2  Horrible experience. Still not resolved at all...   \n",
       "3  Network Server crashed and UPS will not totall...   \n",
       "4  Easy process, and the UPS associate was very h...   \n",
       "\n",
       "                                   preprocessed_text  \n",
       "0                                      criteria need  \n",
       "1   up never follow never contact us way never anyth  \n",
       "2  horribl experi still resolv up lost item still...  \n",
       "3  network server crash up total uninstal let us ...  \n",
       "4                        easi process up associ help  "
      ]
     },
     "execution_count": 97,
     "metadata": {},
     "output_type": "execute_result"
    }
   ],
   "source": [
    "test_series.head()"
   ]
  },
  {
   "cell_type": "code",
   "execution_count": 98,
   "id": "44f284d1",
   "metadata": {},
   "outputs": [],
   "source": [
    "test_s = test_series['preprocessed_text']"
   ]
  },
  {
   "cell_type": "code",
   "execution_count": 101,
   "id": "1a79927c",
   "metadata": {},
   "outputs": [
    {
     "data": {
      "text/plain": [
       "((1191, 200), (4760, 200), (27905,))"
      ]
     },
     "execution_count": 101,
     "metadata": {},
     "output_type": "execute_result"
    }
   ],
   "source": [
    "X_test.shape, X_train.shape, test_s.shape"
   ]
  },
  {
   "cell_type": "code",
   "execution_count": 112,
   "id": "7726ebb5",
   "metadata": {},
   "outputs": [],
   "source": [
    "#preprocesing\n",
    "test_s = tokenizer.texts_to_sequences(test_s)\n",
    "\n",
    "# Pad sequences to have the same length\n",
    "max_length = max([len(x) for x in X_train])\n",
    "test_s = pad_sequences(test_s, maxlen=max_length)"
   ]
  },
  {
   "cell_type": "code",
   "execution_count": 113,
   "id": "a31932a4",
   "metadata": {},
   "outputs": [
    {
     "data": {
      "text/plain": [
       "((27905, 200), (4760, 200))"
      ]
     },
     "execution_count": 113,
     "metadata": {},
     "output_type": "execute_result"
    }
   ],
   "source": [
    "test_s.shape, X_train.shape"
   ]
  },
  {
   "cell_type": "code",
   "execution_count": 115,
   "id": "e676623a",
   "metadata": {},
   "outputs": [
    {
     "name": "stdout",
     "output_type": "stream",
     "text": [
      "873/873 [==============================] - 3s 4ms/step\n"
     ]
    }
   ],
   "source": [
    "y_pred_test = model.predict(test_s)"
   ]
  },
  {
   "cell_type": "code",
   "execution_count": 118,
   "id": "70091bc2",
   "metadata": {},
   "outputs": [],
   "source": [
    "y_pred_deploy = y_pred_test.argmax(axis=1)"
   ]
  },
  {
   "cell_type": "code",
   "execution_count": 119,
   "id": "5d48eb64",
   "metadata": {},
   "outputs": [
    {
     "data": {
      "text/plain": [
       "array([0, 0, 0, ..., 0, 0, 0], dtype=int64)"
      ]
     },
     "execution_count": 119,
     "metadata": {},
     "output_type": "execute_result"
    }
   ],
   "source": []
  },
  {
   "cell_type": "code",
   "execution_count": 122,
   "id": "e11bf94d",
   "metadata": {},
   "outputs": [],
   "source": [
    "test_series['predicted_class'] = y_pred_deploy"
   ]
  },
  {
   "cell_type": "code",
   "execution_count": 130,
   "id": "2d67a9b8",
   "metadata": {},
   "outputs": [],
   "source": [
    "y_pred_deploy_labeled = label_encoder.inverse_transform(y_pred_deploy)"
   ]
  },
  {
   "cell_type": "code",
   "execution_count": 131,
   "id": "a2b13364",
   "metadata": {},
   "outputs": [],
   "source": [
    "test_series['y_pred_labelled'] = y_pred_deploy_labeled"
   ]
  },
  {
   "cell_type": "code",
   "execution_count": 132,
   "id": "74fbe4ee",
   "metadata": {},
   "outputs": [
    {
     "data": {
      "text/html": [
       "<div>\n",
       "<style scoped>\n",
       "    .dataframe tbody tr th:only-of-type {\n",
       "        vertical-align: middle;\n",
       "    }\n",
       "\n",
       "    .dataframe tbody tr th {\n",
       "        vertical-align: top;\n",
       "    }\n",
       "\n",
       "    .dataframe thead th {\n",
       "        text-align: right;\n",
       "    }\n",
       "</style>\n",
       "<table border=\"1\" class=\"dataframe\">\n",
       "  <thead>\n",
       "    <tr style=\"text-align: right;\">\n",
       "      <th></th>\n",
       "      <th>Q3 - Why?</th>\n",
       "      <th>preprocessed_text</th>\n",
       "      <th>predicted_class</th>\n",
       "      <th>y_pred_labelled</th>\n",
       "    </tr>\n",
       "  </thead>\n",
       "  <tbody>\n",
       "    <tr>\n",
       "      <th>0</th>\n",
       "      <td>The criteria needed.</td>\n",
       "      <td>criteria need</td>\n",
       "      <td>0</td>\n",
       "      <td>Layout/Navigation/Usablity</td>\n",
       "    </tr>\n",
       "    <tr>\n",
       "      <th>1</th>\n",
       "      <td>UPS never followed up, never contacted us in a...</td>\n",
       "      <td>up never follow never contact us way never anyth</td>\n",
       "      <td>0</td>\n",
       "      <td>Layout/Navigation/Usablity</td>\n",
       "    </tr>\n",
       "    <tr>\n",
       "      <th>2</th>\n",
       "      <td>Horrible experience. Still not resolved at all...</td>\n",
       "      <td>horribl experi still resolv up lost item still...</td>\n",
       "      <td>0</td>\n",
       "      <td>Layout/Navigation/Usablity</td>\n",
       "    </tr>\n",
       "    <tr>\n",
       "      <th>3</th>\n",
       "      <td>Network Server crashed and UPS will not totall...</td>\n",
       "      <td>network server crash up total uninstal let us ...</td>\n",
       "      <td>0</td>\n",
       "      <td>Layout/Navigation/Usablity</td>\n",
       "    </tr>\n",
       "    <tr>\n",
       "      <th>4</th>\n",
       "      <td>Easy process, and the UPS associate was very h...</td>\n",
       "      <td>easi process up associ help</td>\n",
       "      <td>0</td>\n",
       "      <td>Layout/Navigation/Usablity</td>\n",
       "    </tr>\n",
       "    <tr>\n",
       "      <th>...</th>\n",
       "      <td>...</td>\n",
       "      <td>...</td>\n",
       "      <td>...</td>\n",
       "      <td>...</td>\n",
       "    </tr>\n",
       "    <tr>\n",
       "      <th>34585</th>\n",
       "      <td>reliable service with the nicest UPS driver in...</td>\n",
       "      <td>reliabl servic nicest up driver world</td>\n",
       "      <td>0</td>\n",
       "      <td>Layout/Navigation/Usablity</td>\n",
       "    </tr>\n",
       "    <tr>\n",
       "      <th>34586</th>\n",
       "      <td>When I have my regular UPS man Tom, everything...</td>\n",
       "      <td>regular up man tom everyth fine fantast job va...</td>\n",
       "      <td>0</td>\n",
       "      <td>Layout/Navigation/Usablity</td>\n",
       "    </tr>\n",
       "    <tr>\n",
       "      <th>34587</th>\n",
       "      <td>Uploading/merging a mail list into WorldShip i...</td>\n",
       "      <td>upload merg mail list worldship easi watch vid...</td>\n",
       "      <td>0</td>\n",
       "      <td>Layout/Navigation/Usablity</td>\n",
       "    </tr>\n",
       "    <tr>\n",
       "      <th>34588</th>\n",
       "      <td>Worldship is far too complex to use.  I have b...</td>\n",
       "      <td>worldship far complex use use websit year cont...</td>\n",
       "      <td>0</td>\n",
       "      <td>Layout/Navigation/Usablity</td>\n",
       "    </tr>\n",
       "    <tr>\n",
       "      <th>34589</th>\n",
       "      <td>Pick up didnâ€™t happen</td>\n",
       "      <td>pick happen</td>\n",
       "      <td>0</td>\n",
       "      <td>Layout/Navigation/Usablity</td>\n",
       "    </tr>\n",
       "  </tbody>\n",
       "</table>\n",
       "<p>27905 rows × 4 columns</p>\n",
       "</div>"
      ],
      "text/plain": [
       "                                               Q3 - Why?  \\\n",
       "0                                   The criteria needed.   \n",
       "1      UPS never followed up, never contacted us in a...   \n",
       "2      Horrible experience. Still not resolved at all...   \n",
       "3      Network Server crashed and UPS will not totall...   \n",
       "4      Easy process, and the UPS associate was very h...   \n",
       "...                                                  ...   \n",
       "34585  reliable service with the nicest UPS driver in...   \n",
       "34586  When I have my regular UPS man Tom, everything...   \n",
       "34587  Uploading/merging a mail list into WorldShip i...   \n",
       "34588  Worldship is far too complex to use.  I have b...   \n",
       "34589                            Pick up didnâ€™t happen   \n",
       "\n",
       "                                       preprocessed_text  predicted_class  \\\n",
       "0                                          criteria need                0   \n",
       "1       up never follow never contact us way never anyth                0   \n",
       "2      horribl experi still resolv up lost item still...                0   \n",
       "3      network server crash up total uninstal let us ...                0   \n",
       "4                            easi process up associ help                0   \n",
       "...                                                  ...              ...   \n",
       "34585              reliabl servic nicest up driver world                0   \n",
       "34586  regular up man tom everyth fine fantast job va...                0   \n",
       "34587  upload merg mail list worldship easi watch vid...                0   \n",
       "34588  worldship far complex use use websit year cont...                0   \n",
       "34589                                        pick happen                0   \n",
       "\n",
       "                  y_pred_labelled  \n",
       "0      Layout/Navigation/Usablity  \n",
       "1      Layout/Navigation/Usablity  \n",
       "2      Layout/Navigation/Usablity  \n",
       "3      Layout/Navigation/Usablity  \n",
       "4      Layout/Navigation/Usablity  \n",
       "...                           ...  \n",
       "34585  Layout/Navigation/Usablity  \n",
       "34586  Layout/Navigation/Usablity  \n",
       "34587  Layout/Navigation/Usablity  \n",
       "34588  Layout/Navigation/Usablity  \n",
       "34589  Layout/Navigation/Usablity  \n",
       "\n",
       "[27905 rows x 4 columns]"
      ]
     },
     "execution_count": 132,
     "metadata": {},
     "output_type": "execute_result"
    }
   ],
   "source": [
    "test_series"
   ]
  }
 ],
 "metadata": {
  "colab": {
   "provenance": []
  },
  "kernelspec": {
   "display_name": "Python 3 (ipykernel)",
   "language": "python",
   "name": "python3"
  },
  "language_info": {
   "codemirror_mode": {
    "name": "ipython",
    "version": 3
   },
   "file_extension": ".py",
   "mimetype": "text/x-python",
   "name": "python",
   "nbconvert_exporter": "python",
   "pygments_lexer": "ipython3",
   "version": "3.11.1"
  }
 },
 "nbformat": 4,
 "nbformat_minor": 5
}
